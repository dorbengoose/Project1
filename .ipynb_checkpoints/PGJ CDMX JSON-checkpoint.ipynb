{
 "cells": [
  {
   "cell_type": "markdown",
   "metadata": {},
   "source": [
    "# PROYECT 1 -PGJ JSON-\n",
    "\n",
    "## DATA BOOTCAMP ITESM/TRILOGY\n",
    "\n",
    "## TEAM: \"LOS JSON's\"\n"
   ]
  },
  {
   "cell_type": "code",
   "execution_count": 1,
   "metadata": {},
   "outputs": [],
   "source": [
    "import pandas as pd\n",
    "import numpy as np\n",
    "import matplotlib as plt\n",
    "import csv\n",
    "import json"
   ]
  },
  {
   "cell_type": "code",
   "execution_count": 2,
   "metadata": {},
   "outputs": [],
   "source": [
    "df = pd.read_json('pgj.json')"
   ]
  },
  {
   "cell_type": "code",
   "execution_count": 3,
   "metadata": {},
   "outputs": [
    {
     "data": {
      "text/html": [
       "<div>\n",
       "<style scoped>\n",
       "    .dataframe tbody tr th:only-of-type {\n",
       "        vertical-align: middle;\n",
       "    }\n",
       "\n",
       "    .dataframe tbody tr th {\n",
       "        vertical-align: top;\n",
       "    }\n",
       "\n",
       "    .dataframe thead th {\n",
       "        text-align: right;\n",
       "    }\n",
       "</style>\n",
       "<table border=\"1\" class=\"dataframe\">\n",
       "  <thead>\n",
       "    <tr style=\"text-align: right;\">\n",
       "      <th></th>\n",
       "      <th>datasetid</th>\n",
       "      <th>recordid</th>\n",
       "      <th>fields</th>\n",
       "      <th>geometry</th>\n",
       "      <th>record_timestamp</th>\n",
       "    </tr>\n",
       "  </thead>\n",
       "  <tbody>\n",
       "    <tr>\n",
       "      <td>0</td>\n",
       "      <td>carpetas-de-investigacion-pgj-de-la-ciudad-de-...</td>\n",
       "      <td>7bdffdcf79d2e92bfa909915535a7433c120cc35</td>\n",
       "      <td>{'mes_hechos': 'Diciembre', 'calle_hechos2': '...</td>\n",
       "      <td>{'type': 'Point', 'coordinates': [-99.05353541...</td>\n",
       "      <td>2019-08-06T10:34:05.305-05:00</td>\n",
       "    </tr>\n",
       "    <tr>\n",
       "      <td>1</td>\n",
       "      <td>carpetas-de-investigacion-pgj-de-la-ciudad-de-...</td>\n",
       "      <td>d535ccb98af617954f2b4bd133db07f2681d1856</td>\n",
       "      <td>{'mes_hechos': 'Diciembre', 'calle_hechos2': '...</td>\n",
       "      <td>{'type': 'Point', 'coordinates': [-99.12854990...</td>\n",
       "      <td>2019-08-06T10:34:05.305-05:00</td>\n",
       "    </tr>\n",
       "    <tr>\n",
       "      <td>2</td>\n",
       "      <td>carpetas-de-investigacion-pgj-de-la-ciudad-de-...</td>\n",
       "      <td>351f2664af854a777c64236bf6e5e6f59af9a642</td>\n",
       "      <td>{'mes_hechos': 'Enero', 'calle_hechos2': 'FRAY...</td>\n",
       "      <td>{'type': 'Point', 'coordinates': [-99.12542849...</td>\n",
       "      <td>2019-08-06T10:34:05.305-05:00</td>\n",
       "    </tr>\n",
       "    <tr>\n",
       "      <td>3</td>\n",
       "      <td>carpetas-de-investigacion-pgj-de-la-ciudad-de-...</td>\n",
       "      <td>4016a24363993aba04377c1a06a32787f96b6785</td>\n",
       "      <td>{'mes_hechos': 'Enero', 'calle_hechos2': 'NA',...</td>\n",
       "      <td>{'type': 'Point', 'coordinates': [-99.14428623...</td>\n",
       "      <td>2019-08-06T10:34:05.305-05:00</td>\n",
       "    </tr>\n",
       "    <tr>\n",
       "      <td>4</td>\n",
       "      <td>carpetas-de-investigacion-pgj-de-la-ciudad-de-...</td>\n",
       "      <td>4560d1a2a59701777bc02ecc388f2075dad58b6e</td>\n",
       "      <td>{'mes_hechos': 'Agosto', 'calle_hechos2': 'NA'...</td>\n",
       "      <td>{'type': 'Point', 'coordinates': [-99.15011957...</td>\n",
       "      <td>2019-08-06T10:34:05.305-05:00</td>\n",
       "    </tr>\n",
       "  </tbody>\n",
       "</table>\n",
       "</div>"
      ],
      "text/plain": [
       "                                           datasetid  \\\n",
       "0  carpetas-de-investigacion-pgj-de-la-ciudad-de-...   \n",
       "1  carpetas-de-investigacion-pgj-de-la-ciudad-de-...   \n",
       "2  carpetas-de-investigacion-pgj-de-la-ciudad-de-...   \n",
       "3  carpetas-de-investigacion-pgj-de-la-ciudad-de-...   \n",
       "4  carpetas-de-investigacion-pgj-de-la-ciudad-de-...   \n",
       "\n",
       "                                   recordid  \\\n",
       "0  7bdffdcf79d2e92bfa909915535a7433c120cc35   \n",
       "1  d535ccb98af617954f2b4bd133db07f2681d1856   \n",
       "2  351f2664af854a777c64236bf6e5e6f59af9a642   \n",
       "3  4016a24363993aba04377c1a06a32787f96b6785   \n",
       "4  4560d1a2a59701777bc02ecc388f2075dad58b6e   \n",
       "\n",
       "                                              fields  \\\n",
       "0  {'mes_hechos': 'Diciembre', 'calle_hechos2': '...   \n",
       "1  {'mes_hechos': 'Diciembre', 'calle_hechos2': '...   \n",
       "2  {'mes_hechos': 'Enero', 'calle_hechos2': 'FRAY...   \n",
       "3  {'mes_hechos': 'Enero', 'calle_hechos2': 'NA',...   \n",
       "4  {'mes_hechos': 'Agosto', 'calle_hechos2': 'NA'...   \n",
       "\n",
       "                                            geometry  \\\n",
       "0  {'type': 'Point', 'coordinates': [-99.05353541...   \n",
       "1  {'type': 'Point', 'coordinates': [-99.12854990...   \n",
       "2  {'type': 'Point', 'coordinates': [-99.12542849...   \n",
       "3  {'type': 'Point', 'coordinates': [-99.14428623...   \n",
       "4  {'type': 'Point', 'coordinates': [-99.15011957...   \n",
       "\n",
       "                record_timestamp  \n",
       "0  2019-08-06T10:34:05.305-05:00  \n",
       "1  2019-08-06T10:34:05.305-05:00  \n",
       "2  2019-08-06T10:34:05.305-05:00  \n",
       "3  2019-08-06T10:34:05.305-05:00  \n",
       "4  2019-08-06T10:34:05.305-05:00  "
      ]
     },
     "execution_count": 3,
     "metadata": {},
     "output_type": "execute_result"
    }
   ],
   "source": [
    "df.head(5)"
   ]
  },
  {
   "cell_type": "markdown",
   "metadata": {},
   "source": [
    "* PGJDF CRIME DICTIONARY CONTAINED ON 'FIELDS'  "
   ]
  },
  {
   "cell_type": "code",
   "execution_count": 4,
   "metadata": {},
   "outputs": [
    {
     "data": {
      "text/plain": [
       "{'mes_hechos': 'Diciembre',\n",
       " 'calle_hechos2': 'TURANDOT',\n",
       " 'latitud': '19.302084229935',\n",
       " 'ao_inicio': '2017',\n",
       " 'fecha_inicio': '2017-01-01 00:37:27',\n",
       " 'calle_hechos': 'AVENIDA TLAHUAC',\n",
       " 'agencia': 'TLH-1',\n",
       " 'alcaldia_hechos': 'TLAHUAC',\n",
       " 'categoria_delito': 'DELITO DE BAJO IMPACTO',\n",
       " 'fiscalia': 'INVESTIGACIÓN EN TLAHUAC',\n",
       " 'unidad_investigacion': 'UI-2SD',\n",
       " 'fecha_hechos': '2016-12-31 22:11:00',\n",
       " 'colonia_hechos': 'SANTA ANA PONIENTE',\n",
       " 'geopoint': [19.3020842299, -99.0535354187],\n",
       " 'ao_hechos': '2016',\n",
       " 'delito': 'HOMICIDIO CULPOSO POR TRÁNSITO VEHICULAR (ATROPELLADO)',\n",
       " 'mes_inicio': 'Enero',\n",
       " 'longitud': '-99.0535354187022'}"
      ]
     },
     "execution_count": 4,
     "metadata": {},
     "output_type": "execute_result"
    }
   ],
   "source": [
    "df['fields'][0]"
   ]
  },
  {
   "cell_type": "markdown",
   "metadata": {},
   "source": [
    "* TLAHUAC"
   ]
  },
  {
   "cell_type": "code",
   "execution_count": 146,
   "metadata": {},
   "outputs": [],
   "source": [
    "from itertools import islice\n",
    "\n",
    "tlahuac=[]\n",
    "for i, row in df.iterrows(): #head(500)\n",
    "    \n",
    "    try:\n",
    "        if df[\"fields\"][i][\"alcaldia_hechos\"]==\"TLAHUAC\" and df[\"fields\"][i][\"ao_hechos\"] >= \"2016\":\n",
    "            tlahuac.append((df[\"fields\"][i][\"delito\"],df[\"fields\"][i][\"ao_hechos\"]))\n",
    "    except:\n",
    "        tlahuac.append(np.nan)"
   ]
  },
  {
   "cell_type": "code",
   "execution_count": 147,
   "metadata": {},
   "outputs": [],
   "source": [
    "tlahuacdf=pd.DataFrame(tlahuac)"
   ]
  },
  {
   "cell_type": "code",
   "execution_count": 148,
   "metadata": {},
   "outputs": [
    {
     "data": {
      "text/plain": [
       "VIOLENCIA FAMILIAR                                       3085\n",
       "AMENAZAS                                                 1149\n",
       "ROBO A TRANSEUNTE EN VIA PUBLICA CON VIOLENCIA           1027\n",
       "ROBO DE OBJETOS                                           913\n",
       "ROBO A CASA HABITACION SIN VIOLENCIA                      631\n",
       "ROBO DE VEHICULO DE SERVICIO PARTICULAR SIN VIOLENCIA     604\n",
       "DESPOJO                                                   583\n",
       "FRAUDE                                                    540\n",
       "DENUNCIA DE HECHOS                                        538\n",
       "ROBO A NEGOCIO SIN VIOLENCIA                              488\n",
       "ROBO A NEGOCIO CON VIOLENCIA                              448\n",
       "Name: 0, dtype: int64"
      ]
     },
     "execution_count": 148,
     "metadata": {},
     "output_type": "execute_result"
    }
   ],
   "source": [
    "tlahuacdf[0].value_counts().head(11)"
   ]
  },
  {
   "cell_type": "code",
   "execution_count": 398,
   "metadata": {},
   "outputs": [
    {
     "data": {
      "text/html": [
       "<div>\n",
       "<style scoped>\n",
       "    .dataframe tbody tr th:only-of-type {\n",
       "        vertical-align: middle;\n",
       "    }\n",
       "\n",
       "    .dataframe tbody tr th {\n",
       "        vertical-align: top;\n",
       "    }\n",
       "\n",
       "    .dataframe thead th {\n",
       "        text-align: right;\n",
       "    }\n",
       "</style>\n",
       "<table border=\"1\" class=\"dataframe\">\n",
       "  <thead>\n",
       "    <tr style=\"text-align: right;\">\n",
       "      <th></th>\n",
       "      <th>CRIME</th>\n",
       "      <th>YEAR</th>\n",
       "    </tr>\n",
       "  </thead>\n",
       "  <tbody>\n",
       "    <tr>\n",
       "      <td>0</td>\n",
       "      <td>VIOLENCIA FAMILIAR</td>\n",
       "      <td>3085</td>\n",
       "    </tr>\n",
       "    <tr>\n",
       "      <td>1</td>\n",
       "      <td>AMENAZAS</td>\n",
       "      <td>1149</td>\n",
       "    </tr>\n",
       "    <tr>\n",
       "      <td>2</td>\n",
       "      <td>ROBO A TRANSEUNTE EN VIA PUBLICA CON VIOLENCIA</td>\n",
       "      <td>1027</td>\n",
       "    </tr>\n",
       "    <tr>\n",
       "      <td>3</td>\n",
       "      <td>ROBO DE OBJETOS</td>\n",
       "      <td>913</td>\n",
       "    </tr>\n",
       "    <tr>\n",
       "      <td>4</td>\n",
       "      <td>ROBO A CASA HABITACION SIN VIOLENCIA</td>\n",
       "      <td>631</td>\n",
       "    </tr>\n",
       "    <tr>\n",
       "      <td>5</td>\n",
       "      <td>ROBO DE VEHICULO DE SERVICIO PARTICULAR SIN VI...</td>\n",
       "      <td>604</td>\n",
       "    </tr>\n",
       "    <tr>\n",
       "      <td>6</td>\n",
       "      <td>DESPOJO</td>\n",
       "      <td>583</td>\n",
       "    </tr>\n",
       "    <tr>\n",
       "      <td>7</td>\n",
       "      <td>FRAUDE</td>\n",
       "      <td>540</td>\n",
       "    </tr>\n",
       "    <tr>\n",
       "      <td>8</td>\n",
       "      <td>DENUNCIA DE HECHOS</td>\n",
       "      <td>538</td>\n",
       "    </tr>\n",
       "    <tr>\n",
       "      <td>9</td>\n",
       "      <td>ROBO A NEGOCIO SIN VIOLENCIA</td>\n",
       "      <td>488</td>\n",
       "    </tr>\n",
       "  </tbody>\n",
       "</table>\n",
       "</div>"
      ],
      "text/plain": [
       "                                               CRIME  YEAR\n",
       "0                                 VIOLENCIA FAMILIAR  3085\n",
       "1                                           AMENAZAS  1149\n",
       "2     ROBO A TRANSEUNTE EN VIA PUBLICA CON VIOLENCIA  1027\n",
       "3                                    ROBO DE OBJETOS   913\n",
       "4               ROBO A CASA HABITACION SIN VIOLENCIA   631\n",
       "5  ROBO DE VEHICULO DE SERVICIO PARTICULAR SIN VI...   604\n",
       "6                                            DESPOJO   583\n",
       "7                                             FRAUDE   540\n",
       "8                                 DENUNCIA DE HECHOS   538\n",
       "9                       ROBO A NEGOCIO SIN VIOLENCIA   488"
      ]
     },
     "execution_count": 398,
     "metadata": {},
     "output_type": "execute_result"
    }
   ],
   "source": [
    "tlahuacdf=tlahuacdf.rename(columns={0:'CRIME', 1:\"YEAR\"})\n",
    "tlahuacplot=tlahuacdf.groupby([\"CRIME\"]).count().sort_values(\"YEAR\", ascending=False).head(10).reset_index(inplace=False)\n",
    "tlahuacplot"
   ]
  },
  {
   "cell_type": "markdown",
   "metadata": {},
   "source": [
    "* IZTAPALAPA"
   ]
  },
  {
   "cell_type": "code",
   "execution_count": 6,
   "metadata": {},
   "outputs": [],
   "source": [
    "from itertools import islice\n",
    "\n",
    "iztapalapa=[]\n",
    "for i, row in df.iterrows(): #head(500)\n",
    "    \n",
    "    try:\n",
    "        \n",
    "        if df[\"fields\"][i][\"alcaldia_hechos\"]==\"IZTAPALAPA\" and df[\"fields\"][i][\"ao_hechos\"] >= \"2016\":\n",
    "            iztapalapa.append((df[\"fields\"][i][\"delito\"],df[\"fields\"][i][\"ao_hechos\"]))\n",
    "    except:\n",
    "        iztapalapa.append(np.nan)"
   ]
  },
  {
   "cell_type": "code",
   "execution_count": 22,
   "metadata": {},
   "outputs": [],
   "source": [
    "iztapalapadf=pd.DataFrame(iztapalapa)"
   ]
  },
  {
   "cell_type": "code",
   "execution_count": 36,
   "metadata": {},
   "outputs": [
    {
     "data": {
      "text/plain": [
       "VIOLENCIA FAMILIAR                                       13804\n",
       "ROBO A TRANSEUNTE EN VIA PUBLICA CON VIOLENCIA            8944\n",
       "ROBO A NEGOCIO SIN VIOLENCIA                              8631\n",
       "ROBO DE OBJETOS                                           7176\n",
       "AMENAZAS                                                  6322\n",
       "DENUNCIA DE HECHOS                                        5230\n",
       "ROBO DE VEHICULO DE SERVICIO PARTICULAR SIN VIOLENCIA     3902\n",
       "FRAUDE                                                    3423\n",
       "ROBO A CASA HABITACION SIN VIOLENCIA                      3010\n",
       "ROBO A TRANSEUNTE DE CELULAR CON VIOLENCIA                2547\n",
       "Name: 0, dtype: int64"
      ]
     },
     "execution_count": 36,
     "metadata": {},
     "output_type": "execute_result"
    }
   ],
   "source": [
    "iztapalapadf[0].value_counts().head(10)"
   ]
  },
  {
   "cell_type": "code",
   "execution_count": 399,
   "metadata": {},
   "outputs": [
    {
     "data": {
      "text/html": [
       "<div>\n",
       "<style scoped>\n",
       "    .dataframe tbody tr th:only-of-type {\n",
       "        vertical-align: middle;\n",
       "    }\n",
       "\n",
       "    .dataframe tbody tr th {\n",
       "        vertical-align: top;\n",
       "    }\n",
       "\n",
       "    .dataframe thead th {\n",
       "        text-align: right;\n",
       "    }\n",
       "</style>\n",
       "<table border=\"1\" class=\"dataframe\">\n",
       "  <thead>\n",
       "    <tr style=\"text-align: right;\">\n",
       "      <th></th>\n",
       "      <th>CRIME</th>\n",
       "      <th>YEAR</th>\n",
       "    </tr>\n",
       "  </thead>\n",
       "  <tbody>\n",
       "    <tr>\n",
       "      <td>0</td>\n",
       "      <td>VIOLENCIA FAMILIAR</td>\n",
       "      <td>13804</td>\n",
       "    </tr>\n",
       "    <tr>\n",
       "      <td>1</td>\n",
       "      <td>ROBO A TRANSEUNTE EN VIA PUBLICA CON VIOLENCIA</td>\n",
       "      <td>8944</td>\n",
       "    </tr>\n",
       "    <tr>\n",
       "      <td>2</td>\n",
       "      <td>ROBO A NEGOCIO SIN VIOLENCIA</td>\n",
       "      <td>8631</td>\n",
       "    </tr>\n",
       "    <tr>\n",
       "      <td>3</td>\n",
       "      <td>ROBO DE OBJETOS</td>\n",
       "      <td>7176</td>\n",
       "    </tr>\n",
       "    <tr>\n",
       "      <td>4</td>\n",
       "      <td>AMENAZAS</td>\n",
       "      <td>6322</td>\n",
       "    </tr>\n",
       "    <tr>\n",
       "      <td>5</td>\n",
       "      <td>DENUNCIA DE HECHOS</td>\n",
       "      <td>5230</td>\n",
       "    </tr>\n",
       "    <tr>\n",
       "      <td>6</td>\n",
       "      <td>ROBO DE VEHICULO DE SERVICIO PARTICULAR SIN VI...</td>\n",
       "      <td>3902</td>\n",
       "    </tr>\n",
       "    <tr>\n",
       "      <td>7</td>\n",
       "      <td>FRAUDE</td>\n",
       "      <td>3423</td>\n",
       "    </tr>\n",
       "    <tr>\n",
       "      <td>8</td>\n",
       "      <td>ROBO A CASA HABITACION SIN VIOLENCIA</td>\n",
       "      <td>3010</td>\n",
       "    </tr>\n",
       "    <tr>\n",
       "      <td>9</td>\n",
       "      <td>ROBO A TRANSEUNTE DE CELULAR CON VIOLENCIA</td>\n",
       "      <td>2547</td>\n",
       "    </tr>\n",
       "  </tbody>\n",
       "</table>\n",
       "</div>"
      ],
      "text/plain": [
       "                                               CRIME   YEAR\n",
       "0                                 VIOLENCIA FAMILIAR  13804\n",
       "1     ROBO A TRANSEUNTE EN VIA PUBLICA CON VIOLENCIA   8944\n",
       "2                       ROBO A NEGOCIO SIN VIOLENCIA   8631\n",
       "3                                    ROBO DE OBJETOS   7176\n",
       "4                                           AMENAZAS   6322\n",
       "5                                 DENUNCIA DE HECHOS   5230\n",
       "6  ROBO DE VEHICULO DE SERVICIO PARTICULAR SIN VI...   3902\n",
       "7                                             FRAUDE   3423\n",
       "8               ROBO A CASA HABITACION SIN VIOLENCIA   3010\n",
       "9         ROBO A TRANSEUNTE DE CELULAR CON VIOLENCIA   2547"
      ]
     },
     "execution_count": 399,
     "metadata": {},
     "output_type": "execute_result"
    }
   ],
   "source": [
    "iztapalapadf=iztapalapadf.rename(columns={0:'CRIME', 1:\"YEAR\"})\n",
    "iztapalaplot=iztapalapadf.groupby([\"CRIME\"]).count().sort_values(\"YEAR\", ascending=False).head(10).reset_index(inplace=False)\n",
    "iztapalaplot"
   ]
  },
  {
   "cell_type": "markdown",
   "metadata": {},
   "source": [
    "*CUAUHTEMOC"
   ]
  },
  {
   "cell_type": "code",
   "execution_count": 21,
   "metadata": {},
   "outputs": [],
   "source": [
    "from itertools import islice\n",
    "\n",
    "cuauhtemoc=[]\n",
    "for i, row in df.iterrows(): #head(500)\n",
    "    \n",
    "    try:\n",
    "    \n",
    "        if df[\"fields\"][i][\"alcaldia_hechos\"]==\"CUAUHTEMOC\" and df[\"fields\"][i][\"ao_hechos\"] >= \"2016\":\n",
    "            cuauhtemoc.append((df[\"fields\"][i][\"delito\"],df[\"fields\"][i][\"ao_hechos\"]))\n",
    "    except:\n",
    "        cuauhtemoc.append(np.nan)\n",
    "        "
   ]
  },
  {
   "cell_type": "code",
   "execution_count": 37,
   "metadata": {},
   "outputs": [],
   "source": [
    "cuauhtemocdf=pd.DataFrame(cuauhtemoc)"
   ]
  },
  {
   "cell_type": "code",
   "execution_count": 38,
   "metadata": {},
   "outputs": [
    {
     "data": {
      "text/plain": [
       "ROBO DE OBJETOS                                                         10451\n",
       "FRAUDE                                                                  10203\n",
       "ROBO A NEGOCIO SIN VIOLENCIA                                             8626\n",
       "ROBO A TRANSEUNTE EN VIA PUBLICA CON VIOLENCIA                           7731\n",
       "DENUNCIA DE HECHOS                                                       7413\n",
       "VIOLENCIA FAMILIAR                                                       5902\n",
       "AMENAZAS                                                                 5341\n",
       "ROBO A PASAJERO A BORDO DE METRO SIN VIOLENCIA                           4706\n",
       "ROBO DE ACCESORIOS DE AUTO                                               4127\n",
       "FALSIFICACION DE TITULOS AL PORTADOR Y DOCUMENTOS DE CREDITO PUBLICO     3747\n",
       "Name: 0, dtype: int64"
      ]
     },
     "execution_count": 38,
     "metadata": {},
     "output_type": "execute_result"
    }
   ],
   "source": [
    "cuauhtemocdf[0].value_counts().head(10)"
   ]
  },
  {
   "cell_type": "code",
   "execution_count": 400,
   "metadata": {},
   "outputs": [
    {
     "data": {
      "text/html": [
       "<div>\n",
       "<style scoped>\n",
       "    .dataframe tbody tr th:only-of-type {\n",
       "        vertical-align: middle;\n",
       "    }\n",
       "\n",
       "    .dataframe tbody tr th {\n",
       "        vertical-align: top;\n",
       "    }\n",
       "\n",
       "    .dataframe thead th {\n",
       "        text-align: right;\n",
       "    }\n",
       "</style>\n",
       "<table border=\"1\" class=\"dataframe\">\n",
       "  <thead>\n",
       "    <tr style=\"text-align: right;\">\n",
       "      <th></th>\n",
       "      <th>CRIME</th>\n",
       "      <th>YEAR</th>\n",
       "    </tr>\n",
       "  </thead>\n",
       "  <tbody>\n",
       "    <tr>\n",
       "      <td>0</td>\n",
       "      <td>ROBO DE OBJETOS</td>\n",
       "      <td>10451</td>\n",
       "    </tr>\n",
       "    <tr>\n",
       "      <td>1</td>\n",
       "      <td>FRAUDE</td>\n",
       "      <td>10203</td>\n",
       "    </tr>\n",
       "    <tr>\n",
       "      <td>2</td>\n",
       "      <td>ROBO A NEGOCIO SIN VIOLENCIA</td>\n",
       "      <td>8626</td>\n",
       "    </tr>\n",
       "    <tr>\n",
       "      <td>3</td>\n",
       "      <td>ROBO A TRANSEUNTE EN VIA PUBLICA CON VIOLENCIA</td>\n",
       "      <td>7731</td>\n",
       "    </tr>\n",
       "    <tr>\n",
       "      <td>4</td>\n",
       "      <td>DENUNCIA DE HECHOS</td>\n",
       "      <td>7413</td>\n",
       "    </tr>\n",
       "    <tr>\n",
       "      <td>5</td>\n",
       "      <td>VIOLENCIA FAMILIAR</td>\n",
       "      <td>5902</td>\n",
       "    </tr>\n",
       "    <tr>\n",
       "      <td>6</td>\n",
       "      <td>AMENAZAS</td>\n",
       "      <td>5341</td>\n",
       "    </tr>\n",
       "    <tr>\n",
       "      <td>7</td>\n",
       "      <td>ROBO A PASAJERO A BORDO DE METRO SIN VIOLENCIA</td>\n",
       "      <td>4706</td>\n",
       "    </tr>\n",
       "    <tr>\n",
       "      <td>8</td>\n",
       "      <td>ROBO DE ACCESORIOS DE AUTO</td>\n",
       "      <td>4127</td>\n",
       "    </tr>\n",
       "    <tr>\n",
       "      <td>9</td>\n",
       "      <td>FALSIFICACION DE TITULOS AL PORTADOR Y DOCUMEN...</td>\n",
       "      <td>3747</td>\n",
       "    </tr>\n",
       "  </tbody>\n",
       "</table>\n",
       "</div>"
      ],
      "text/plain": [
       "                                               CRIME   YEAR\n",
       "0                                    ROBO DE OBJETOS  10451\n",
       "1                                             FRAUDE  10203\n",
       "2                       ROBO A NEGOCIO SIN VIOLENCIA   8626\n",
       "3     ROBO A TRANSEUNTE EN VIA PUBLICA CON VIOLENCIA   7731\n",
       "4                                 DENUNCIA DE HECHOS   7413\n",
       "5                                 VIOLENCIA FAMILIAR   5902\n",
       "6                                           AMENAZAS   5341\n",
       "7     ROBO A PASAJERO A BORDO DE METRO SIN VIOLENCIA   4706\n",
       "8                         ROBO DE ACCESORIOS DE AUTO   4127\n",
       "9  FALSIFICACION DE TITULOS AL PORTADOR Y DOCUMEN...   3747"
      ]
     },
     "execution_count": 400,
     "metadata": {},
     "output_type": "execute_result"
    }
   ],
   "source": [
    "cuauhtemocdf=cuauhtemocdf.rename(columns={0:'CRIME', 1:\"YEAR\"})\n",
    "cuauhtemocplot=cuauhtemocdf.groupby([\"CRIME\"]).count().sort_values(\"YEAR\", ascending=False).head(10).reset_index(inplace=False)\n",
    "cuauhtemocplot"
   ]
  },
  {
   "cell_type": "markdown",
   "metadata": {},
   "source": [
    "*VENUSTIANO CARRANZA"
   ]
  },
  {
   "cell_type": "code",
   "execution_count": 7,
   "metadata": {},
   "outputs": [],
   "source": [
    "from itertools import islice\n",
    "\n",
    "venustiano=[]\n",
    "for i, row in df.iterrows(): #head(500)\n",
    "    \n",
    "    try:\n",
    "       \n",
    "        if df[\"fields\"][i][\"alcaldia_hechos\"]==\"VENUSTIANO CARRANZA\" and df[\"fields\"][i][\"ao_hechos\"] >= \"2016\":\n",
    "            venustiano.append((df[\"fields\"][i][\"delito\"],df[\"fields\"][i][\"ao_hechos\"]))\n",
    "    except:\n",
    "        venustiano.append(np.nan)"
   ]
  },
  {
   "cell_type": "code",
   "execution_count": 23,
   "metadata": {},
   "outputs": [],
   "source": [
    "venustianodf=pd.DataFrame(venustiano)"
   ]
  },
  {
   "cell_type": "code",
   "execution_count": 39,
   "metadata": {},
   "outputs": [
    {
     "data": {
      "text/plain": [
       "VIOLENCIA FAMILIAR                                4078\n",
       "ROBO DE OBJETOS                                   3352\n",
       "DENUNCIA DE HECHOS                                3335\n",
       "ROBO A TRANSEUNTE EN VIA PUBLICA CON VIOLENCIA    2962\n",
       "ROBO A NEGOCIO SIN VIOLENCIA                      2869\n",
       "AMENAZAS                                          2546\n",
       "FRAUDE                                            1462\n",
       "ROBO DE ACCESORIOS DE AUTO                        1302\n",
       "NARCOMENUDEO POSESION SIMPLE                      1283\n",
       "ROBO A CASA HABITACION SIN VIOLENCIA              1148\n",
       "Name: 0, dtype: int64"
      ]
     },
     "execution_count": 39,
     "metadata": {},
     "output_type": "execute_result"
    }
   ],
   "source": [
    "venustianodf[0].value_counts().head(10)"
   ]
  },
  {
   "cell_type": "code",
   "execution_count": 401,
   "metadata": {},
   "outputs": [
    {
     "data": {
      "text/html": [
       "<div>\n",
       "<style scoped>\n",
       "    .dataframe tbody tr th:only-of-type {\n",
       "        vertical-align: middle;\n",
       "    }\n",
       "\n",
       "    .dataframe tbody tr th {\n",
       "        vertical-align: top;\n",
       "    }\n",
       "\n",
       "    .dataframe thead th {\n",
       "        text-align: right;\n",
       "    }\n",
       "</style>\n",
       "<table border=\"1\" class=\"dataframe\">\n",
       "  <thead>\n",
       "    <tr style=\"text-align: right;\">\n",
       "      <th></th>\n",
       "      <th>CRIME</th>\n",
       "      <th>YEAR</th>\n",
       "    </tr>\n",
       "  </thead>\n",
       "  <tbody>\n",
       "    <tr>\n",
       "      <td>0</td>\n",
       "      <td>VIOLENCIA FAMILIAR</td>\n",
       "      <td>4078</td>\n",
       "    </tr>\n",
       "    <tr>\n",
       "      <td>1</td>\n",
       "      <td>ROBO DE OBJETOS</td>\n",
       "      <td>3352</td>\n",
       "    </tr>\n",
       "    <tr>\n",
       "      <td>2</td>\n",
       "      <td>DENUNCIA DE HECHOS</td>\n",
       "      <td>3335</td>\n",
       "    </tr>\n",
       "    <tr>\n",
       "      <td>3</td>\n",
       "      <td>ROBO A TRANSEUNTE EN VIA PUBLICA CON VIOLENCIA</td>\n",
       "      <td>2962</td>\n",
       "    </tr>\n",
       "    <tr>\n",
       "      <td>4</td>\n",
       "      <td>ROBO A NEGOCIO SIN VIOLENCIA</td>\n",
       "      <td>2869</td>\n",
       "    </tr>\n",
       "    <tr>\n",
       "      <td>5</td>\n",
       "      <td>AMENAZAS</td>\n",
       "      <td>2546</td>\n",
       "    </tr>\n",
       "    <tr>\n",
       "      <td>6</td>\n",
       "      <td>FRAUDE</td>\n",
       "      <td>1462</td>\n",
       "    </tr>\n",
       "    <tr>\n",
       "      <td>7</td>\n",
       "      <td>ROBO DE ACCESORIOS DE AUTO</td>\n",
       "      <td>1302</td>\n",
       "    </tr>\n",
       "    <tr>\n",
       "      <td>8</td>\n",
       "      <td>NARCOMENUDEO POSESION SIMPLE</td>\n",
       "      <td>1283</td>\n",
       "    </tr>\n",
       "    <tr>\n",
       "      <td>9</td>\n",
       "      <td>ROBO A CASA HABITACION SIN VIOLENCIA</td>\n",
       "      <td>1148</td>\n",
       "    </tr>\n",
       "  </tbody>\n",
       "</table>\n",
       "</div>"
      ],
      "text/plain": [
       "                                            CRIME  YEAR\n",
       "0                              VIOLENCIA FAMILIAR  4078\n",
       "1                                 ROBO DE OBJETOS  3352\n",
       "2                              DENUNCIA DE HECHOS  3335\n",
       "3  ROBO A TRANSEUNTE EN VIA PUBLICA CON VIOLENCIA  2962\n",
       "4                    ROBO A NEGOCIO SIN VIOLENCIA  2869\n",
       "5                                        AMENAZAS  2546\n",
       "6                                          FRAUDE  1462\n",
       "7                      ROBO DE ACCESORIOS DE AUTO  1302\n",
       "8                    NARCOMENUDEO POSESION SIMPLE  1283\n",
       "9            ROBO A CASA HABITACION SIN VIOLENCIA  1148"
      ]
     },
     "execution_count": 401,
     "metadata": {},
     "output_type": "execute_result"
    }
   ],
   "source": [
    "venustianodf=venustianodf.rename(columns={0:'CRIME', 1:\"YEAR\"})\n",
    "venustianoplot=venustianodf.groupby([\"CRIME\"]).count().sort_values(\"YEAR\", ascending=False).head(10).reset_index(inplace=False)\n",
    "venustianoplot"
   ]
  },
  {
   "cell_type": "markdown",
   "metadata": {},
   "source": [
    "*GUSTAVO A MADERO"
   ]
  },
  {
   "cell_type": "code",
   "execution_count": 8,
   "metadata": {},
   "outputs": [],
   "source": [
    "from itertools import islice\n",
    "\n",
    "gustavo=[]\n",
    "for i, row in df.iterrows(): #head(500)\n",
    "    \n",
    "    try:\n",
    "        \n",
    "        if df[\"fields\"][i][\"alcaldia_hechos\"]==\"GUSTAVO A MADERO\" and df[\"fields\"][i][\"ao_hechos\"] >= \"2016\":\n",
    "            gustavo.append((df[\"fields\"][i][\"delito\"],df[\"fields\"][i][\"ao_hechos\"]))\n",
    "    except:\n",
    "        gustavo.append(np.nan)    "
   ]
  },
  {
   "cell_type": "code",
   "execution_count": 24,
   "metadata": {},
   "outputs": [],
   "source": [
    "gustavodf=pd.DataFrame(gustavo)"
   ]
  },
  {
   "cell_type": "code",
   "execution_count": 40,
   "metadata": {},
   "outputs": [
    {
     "data": {
      "text/plain": [
       "VIOLENCIA FAMILIAR                                       7915\n",
       "ROBO A NEGOCIO SIN VIOLENCIA                             5889\n",
       "ROBO A TRANSEUNTE EN VIA PUBLICA CON VIOLENCIA           4428\n",
       "ROBO DE OBJETOS                                          4355\n",
       "AMENAZAS                                                 3735\n",
       "DENUNCIA DE HECHOS                                       3491\n",
       "ROBO DE VEHICULO DE SERVICIO PARTICULAR SIN VIOLENCIA    3023\n",
       "FRAUDE                                                   2845\n",
       "ROBO DE ACCESORIOS DE AUTO                               2559\n",
       "ROBO A CASA HABITACION SIN VIOLENCIA                     2323\n",
       "Name: 0, dtype: int64"
      ]
     },
     "execution_count": 40,
     "metadata": {},
     "output_type": "execute_result"
    }
   ],
   "source": [
    "gustavodf[0].value_counts().head(10)"
   ]
  },
  {
   "cell_type": "code",
   "execution_count": 402,
   "metadata": {},
   "outputs": [
    {
     "data": {
      "text/html": [
       "<div>\n",
       "<style scoped>\n",
       "    .dataframe tbody tr th:only-of-type {\n",
       "        vertical-align: middle;\n",
       "    }\n",
       "\n",
       "    .dataframe tbody tr th {\n",
       "        vertical-align: top;\n",
       "    }\n",
       "\n",
       "    .dataframe thead th {\n",
       "        text-align: right;\n",
       "    }\n",
       "</style>\n",
       "<table border=\"1\" class=\"dataframe\">\n",
       "  <thead>\n",
       "    <tr style=\"text-align: right;\">\n",
       "      <th></th>\n",
       "      <th>CRIME</th>\n",
       "      <th>YEAR</th>\n",
       "    </tr>\n",
       "  </thead>\n",
       "  <tbody>\n",
       "    <tr>\n",
       "      <td>0</td>\n",
       "      <td>VIOLENCIA FAMILIAR</td>\n",
       "      <td>7915</td>\n",
       "    </tr>\n",
       "    <tr>\n",
       "      <td>1</td>\n",
       "      <td>ROBO A NEGOCIO SIN VIOLENCIA</td>\n",
       "      <td>5889</td>\n",
       "    </tr>\n",
       "    <tr>\n",
       "      <td>2</td>\n",
       "      <td>ROBO A TRANSEUNTE EN VIA PUBLICA CON VIOLENCIA</td>\n",
       "      <td>4428</td>\n",
       "    </tr>\n",
       "    <tr>\n",
       "      <td>3</td>\n",
       "      <td>ROBO DE OBJETOS</td>\n",
       "      <td>4355</td>\n",
       "    </tr>\n",
       "    <tr>\n",
       "      <td>4</td>\n",
       "      <td>AMENAZAS</td>\n",
       "      <td>3735</td>\n",
       "    </tr>\n",
       "    <tr>\n",
       "      <td>5</td>\n",
       "      <td>DENUNCIA DE HECHOS</td>\n",
       "      <td>3491</td>\n",
       "    </tr>\n",
       "    <tr>\n",
       "      <td>6</td>\n",
       "      <td>ROBO DE VEHICULO DE SERVICIO PARTICULAR SIN VI...</td>\n",
       "      <td>3023</td>\n",
       "    </tr>\n",
       "    <tr>\n",
       "      <td>7</td>\n",
       "      <td>FRAUDE</td>\n",
       "      <td>2845</td>\n",
       "    </tr>\n",
       "    <tr>\n",
       "      <td>8</td>\n",
       "      <td>ROBO DE ACCESORIOS DE AUTO</td>\n",
       "      <td>2559</td>\n",
       "    </tr>\n",
       "    <tr>\n",
       "      <td>9</td>\n",
       "      <td>ROBO A CASA HABITACION SIN VIOLENCIA</td>\n",
       "      <td>2323</td>\n",
       "    </tr>\n",
       "  </tbody>\n",
       "</table>\n",
       "</div>"
      ],
      "text/plain": [
       "                                               CRIME  YEAR\n",
       "0                                 VIOLENCIA FAMILIAR  7915\n",
       "1                       ROBO A NEGOCIO SIN VIOLENCIA  5889\n",
       "2     ROBO A TRANSEUNTE EN VIA PUBLICA CON VIOLENCIA  4428\n",
       "3                                    ROBO DE OBJETOS  4355\n",
       "4                                           AMENAZAS  3735\n",
       "5                                 DENUNCIA DE HECHOS  3491\n",
       "6  ROBO DE VEHICULO DE SERVICIO PARTICULAR SIN VI...  3023\n",
       "7                                             FRAUDE  2845\n",
       "8                         ROBO DE ACCESORIOS DE AUTO  2559\n",
       "9               ROBO A CASA HABITACION SIN VIOLENCIA  2323"
      ]
     },
     "execution_count": 402,
     "metadata": {},
     "output_type": "execute_result"
    }
   ],
   "source": [
    "gustavodf=gustavodf.rename(columns={0:'CRIME', 1:\"YEAR\"})\n",
    "gustavoplot=gustavodf.groupby([\"CRIME\"]).count().sort_values(\"YEAR\", ascending=False).head(10).reset_index(inplace=False)\n",
    "gustavoplot"
   ]
  },
  {
   "cell_type": "markdown",
   "metadata": {},
   "source": [
    "*AZCAPOTZALCO\n"
   ]
  },
  {
   "cell_type": "code",
   "execution_count": 9,
   "metadata": {},
   "outputs": [],
   "source": [
    "from itertools import islice\n",
    "\n",
    "azcapotzalco=[]\n",
    "for i, row in df.iterrows(): #head(500)\n",
    "    \n",
    "    try:\n",
    "      \n",
    "        if df[\"fields\"][i][\"alcaldia_hechos\"]==\"AZCAPOTZALCO\" and df[\"fields\"][i][\"ao_hechos\"] >= \"2016\":\n",
    "            azcapotzalco.append((df[\"fields\"][i][\"delito\"],df[\"fields\"][i][\"ao_hechos\"]))\n",
    "    except:\n",
    "        azcapotzalco.append(np.nan)"
   ]
  },
  {
   "cell_type": "code",
   "execution_count": 25,
   "metadata": {},
   "outputs": [],
   "source": [
    "azcapotzalcodf=pd.DataFrame(azcapotzalco)"
   ]
  },
  {
   "cell_type": "code",
   "execution_count": 41,
   "metadata": {},
   "outputs": [
    {
     "data": {
      "text/plain": [
       "ROBO A NEGOCIO SIN VIOLENCIA                             3452\n",
       "VIOLENCIA FAMILIAR                                       3285\n",
       "ROBO DE OBJETOS                                          2699\n",
       "ROBO A TRANSEUNTE EN VIA PUBLICA CON VIOLENCIA           2415\n",
       "AMENAZAS                                                 2363\n",
       "ROBO DE OBJETOS DEL INTERIOR DE UN VEHICULO              1775\n",
       "FRAUDE                                                   1572\n",
       "ROBO A TRANSEUNTE DE CELULAR CON VIOLENCIA               1380\n",
       "ROBO DE ACCESORIOS DE AUTO                               1363\n",
       "ROBO DE VEHICULO DE SERVICIO PARTICULAR SIN VIOLENCIA    1337\n",
       "Name: 0, dtype: int64"
      ]
     },
     "execution_count": 41,
     "metadata": {},
     "output_type": "execute_result"
    }
   ],
   "source": [
    "azcapotzalcodf[0].value_counts().head(10)"
   ]
  },
  {
   "cell_type": "code",
   "execution_count": 403,
   "metadata": {},
   "outputs": [
    {
     "data": {
      "text/html": [
       "<div>\n",
       "<style scoped>\n",
       "    .dataframe tbody tr th:only-of-type {\n",
       "        vertical-align: middle;\n",
       "    }\n",
       "\n",
       "    .dataframe tbody tr th {\n",
       "        vertical-align: top;\n",
       "    }\n",
       "\n",
       "    .dataframe thead th {\n",
       "        text-align: right;\n",
       "    }\n",
       "</style>\n",
       "<table border=\"1\" class=\"dataframe\">\n",
       "  <thead>\n",
       "    <tr style=\"text-align: right;\">\n",
       "      <th></th>\n",
       "      <th>CRIME</th>\n",
       "      <th>YEAR</th>\n",
       "    </tr>\n",
       "  </thead>\n",
       "  <tbody>\n",
       "    <tr>\n",
       "      <td>0</td>\n",
       "      <td>ROBO A NEGOCIO SIN VIOLENCIA</td>\n",
       "      <td>3452</td>\n",
       "    </tr>\n",
       "    <tr>\n",
       "      <td>1</td>\n",
       "      <td>VIOLENCIA FAMILIAR</td>\n",
       "      <td>3285</td>\n",
       "    </tr>\n",
       "    <tr>\n",
       "      <td>2</td>\n",
       "      <td>ROBO DE OBJETOS</td>\n",
       "      <td>2699</td>\n",
       "    </tr>\n",
       "    <tr>\n",
       "      <td>3</td>\n",
       "      <td>ROBO A TRANSEUNTE EN VIA PUBLICA CON VIOLENCIA</td>\n",
       "      <td>2415</td>\n",
       "    </tr>\n",
       "    <tr>\n",
       "      <td>4</td>\n",
       "      <td>AMENAZAS</td>\n",
       "      <td>2363</td>\n",
       "    </tr>\n",
       "    <tr>\n",
       "      <td>5</td>\n",
       "      <td>ROBO DE OBJETOS DEL INTERIOR DE UN VEHICULO</td>\n",
       "      <td>1775</td>\n",
       "    </tr>\n",
       "    <tr>\n",
       "      <td>6</td>\n",
       "      <td>FRAUDE</td>\n",
       "      <td>1572</td>\n",
       "    </tr>\n",
       "    <tr>\n",
       "      <td>7</td>\n",
       "      <td>ROBO A TRANSEUNTE DE CELULAR CON VIOLENCIA</td>\n",
       "      <td>1380</td>\n",
       "    </tr>\n",
       "    <tr>\n",
       "      <td>8</td>\n",
       "      <td>ROBO DE ACCESORIOS DE AUTO</td>\n",
       "      <td>1363</td>\n",
       "    </tr>\n",
       "    <tr>\n",
       "      <td>9</td>\n",
       "      <td>ROBO DE VEHICULO DE SERVICIO PARTICULAR SIN VI...</td>\n",
       "      <td>1337</td>\n",
       "    </tr>\n",
       "  </tbody>\n",
       "</table>\n",
       "</div>"
      ],
      "text/plain": [
       "                                               CRIME  YEAR\n",
       "0                       ROBO A NEGOCIO SIN VIOLENCIA  3452\n",
       "1                                 VIOLENCIA FAMILIAR  3285\n",
       "2                                    ROBO DE OBJETOS  2699\n",
       "3     ROBO A TRANSEUNTE EN VIA PUBLICA CON VIOLENCIA  2415\n",
       "4                                           AMENAZAS  2363\n",
       "5        ROBO DE OBJETOS DEL INTERIOR DE UN VEHICULO  1775\n",
       "6                                             FRAUDE  1572\n",
       "7         ROBO A TRANSEUNTE DE CELULAR CON VIOLENCIA  1380\n",
       "8                         ROBO DE ACCESORIOS DE AUTO  1363\n",
       "9  ROBO DE VEHICULO DE SERVICIO PARTICULAR SIN VI...  1337"
      ]
     },
     "execution_count": 403,
     "metadata": {},
     "output_type": "execute_result"
    }
   ],
   "source": [
    "azcapotzalcodf=azcapotzalcodf.rename(columns={0:'CRIME', 1:\"YEAR\"})\n",
    "azcapotzalcoplot=azcapotzalcodf.groupby([\"CRIME\"]).count().sort_values(\"YEAR\", ascending=False).head(10).reset_index(inplace=False)\n",
    "azcapotzalcoplot"
   ]
  },
  {
   "cell_type": "markdown",
   "metadata": {},
   "source": [
    "*COYOACAN"
   ]
  },
  {
   "cell_type": "code",
   "execution_count": 10,
   "metadata": {},
   "outputs": [],
   "source": [
    "from itertools import islice\n",
    "\n",
    "coyoacan=[]\n",
    "for i, row in df.iterrows(): #head(500)\n",
    "    \n",
    "    try:\n",
    "        \n",
    "        if df[\"fields\"][i][\"alcaldia_hechos\"]==\"COYOACAN\" and df[\"fields\"][i][\"ao_hechos\"] >= \"2016\":\n",
    "            coyoacan.append((df[\"fields\"][i][\"delito\"],df[\"fields\"][i][\"ao_hechos\"]))\n",
    "    except:\n",
    "        coyoacan.append(np.nan)"
   ]
  },
  {
   "cell_type": "code",
   "execution_count": 27,
   "metadata": {},
   "outputs": [],
   "source": [
    "coyoacandf=pd.DataFrame(coyoacan)"
   ]
  },
  {
   "cell_type": "code",
   "execution_count": 42,
   "metadata": {},
   "outputs": [
    {
     "data": {
      "text/plain": [
       "VIOLENCIA FAMILIAR                                                      4729\n",
       "ROBO A NEGOCIO SIN VIOLENCIA                                            4249\n",
       "ROBO DE OBJETOS                                                         3983\n",
       "FRAUDE                                                                  2811\n",
       "DENUNCIA DE HECHOS                                                      2701\n",
       "AMENAZAS                                                                2667\n",
       "FALSIFICACION DE TITULOS AL PORTADOR Y DOCUMENTOS DE CREDITO PUBLICO    2568\n",
       "ROBO DE OBJETOS DEL INTERIOR DE UN VEHICULO                             2479\n",
       "ROBO A TRANSEUNTE EN VIA PUBLICA CON VIOLENCIA                          2281\n",
       "ROBO DE ACCESORIOS DE AUTO                                              2030\n",
       "Name: 0, dtype: int64"
      ]
     },
     "execution_count": 42,
     "metadata": {},
     "output_type": "execute_result"
    }
   ],
   "source": [
    "coyoacandf[0].value_counts().head(10)"
   ]
  },
  {
   "cell_type": "code",
   "execution_count": 404,
   "metadata": {},
   "outputs": [
    {
     "data": {
      "text/html": [
       "<div>\n",
       "<style scoped>\n",
       "    .dataframe tbody tr th:only-of-type {\n",
       "        vertical-align: middle;\n",
       "    }\n",
       "\n",
       "    .dataframe tbody tr th {\n",
       "        vertical-align: top;\n",
       "    }\n",
       "\n",
       "    .dataframe thead th {\n",
       "        text-align: right;\n",
       "    }\n",
       "</style>\n",
       "<table border=\"1\" class=\"dataframe\">\n",
       "  <thead>\n",
       "    <tr style=\"text-align: right;\">\n",
       "      <th></th>\n",
       "      <th>CRIME</th>\n",
       "      <th>YEAR</th>\n",
       "    </tr>\n",
       "  </thead>\n",
       "  <tbody>\n",
       "    <tr>\n",
       "      <td>0</td>\n",
       "      <td>VIOLENCIA FAMILIAR</td>\n",
       "      <td>4729</td>\n",
       "    </tr>\n",
       "    <tr>\n",
       "      <td>1</td>\n",
       "      <td>ROBO A NEGOCIO SIN VIOLENCIA</td>\n",
       "      <td>4249</td>\n",
       "    </tr>\n",
       "    <tr>\n",
       "      <td>2</td>\n",
       "      <td>ROBO DE OBJETOS</td>\n",
       "      <td>3983</td>\n",
       "    </tr>\n",
       "    <tr>\n",
       "      <td>3</td>\n",
       "      <td>FRAUDE</td>\n",
       "      <td>2811</td>\n",
       "    </tr>\n",
       "    <tr>\n",
       "      <td>4</td>\n",
       "      <td>DENUNCIA DE HECHOS</td>\n",
       "      <td>2701</td>\n",
       "    </tr>\n",
       "    <tr>\n",
       "      <td>5</td>\n",
       "      <td>AMENAZAS</td>\n",
       "      <td>2667</td>\n",
       "    </tr>\n",
       "    <tr>\n",
       "      <td>6</td>\n",
       "      <td>FALSIFICACION DE TITULOS AL PORTADOR Y DOCUMEN...</td>\n",
       "      <td>2568</td>\n",
       "    </tr>\n",
       "    <tr>\n",
       "      <td>7</td>\n",
       "      <td>ROBO DE OBJETOS DEL INTERIOR DE UN VEHICULO</td>\n",
       "      <td>2479</td>\n",
       "    </tr>\n",
       "    <tr>\n",
       "      <td>8</td>\n",
       "      <td>ROBO A TRANSEUNTE EN VIA PUBLICA CON VIOLENCIA</td>\n",
       "      <td>2281</td>\n",
       "    </tr>\n",
       "    <tr>\n",
       "      <td>9</td>\n",
       "      <td>ROBO DE ACCESORIOS DE AUTO</td>\n",
       "      <td>2030</td>\n",
       "    </tr>\n",
       "  </tbody>\n",
       "</table>\n",
       "</div>"
      ],
      "text/plain": [
       "                                               CRIME  YEAR\n",
       "0                                 VIOLENCIA FAMILIAR  4729\n",
       "1                       ROBO A NEGOCIO SIN VIOLENCIA  4249\n",
       "2                                    ROBO DE OBJETOS  3983\n",
       "3                                             FRAUDE  2811\n",
       "4                                 DENUNCIA DE HECHOS  2701\n",
       "5                                           AMENAZAS  2667\n",
       "6  FALSIFICACION DE TITULOS AL PORTADOR Y DOCUMEN...  2568\n",
       "7        ROBO DE OBJETOS DEL INTERIOR DE UN VEHICULO  2479\n",
       "8     ROBO A TRANSEUNTE EN VIA PUBLICA CON VIOLENCIA  2281\n",
       "9                         ROBO DE ACCESORIOS DE AUTO  2030"
      ]
     },
     "execution_count": 404,
     "metadata": {},
     "output_type": "execute_result"
    }
   ],
   "source": [
    "coyoacandf=coyoacandf.rename(columns={0:'CRIME', 1:\"YEAR\"})\n",
    "coyoacanplot=coyoacandf.groupby([\"CRIME\"]).count().sort_values(\"YEAR\", ascending=False).head(10).reset_index(inplace=False)\n",
    "coyoacanplot"
   ]
  },
  {
   "cell_type": "markdown",
   "metadata": {},
   "source": [
    "*MIGUEL HIDALGO"
   ]
  },
  {
   "cell_type": "code",
   "execution_count": 11,
   "metadata": {},
   "outputs": [],
   "source": [
    "from itertools import islice\n",
    "\n",
    "miguel=[]\n",
    "for i, row in df.iterrows(): #head(500)\n",
    "    \n",
    "    try:\n",
    "        \n",
    "        if df[\"fields\"][i][\"alcaldia_hechos\"]==\"MIGUEL HIDALGO\" and df[\"fields\"][i][\"ao_hechos\"] >= \"2016\":\n",
    "            miguel.append((df[\"fields\"][i][\"delito\"],df[\"fields\"][i][\"ao_hechos\"]))\n",
    "    except:\n",
    "        miguel.append(np.nan)"
   ]
  },
  {
   "cell_type": "code",
   "execution_count": 26,
   "metadata": {},
   "outputs": [],
   "source": [
    "migueldf=pd.DataFrame(miguel)"
   ]
  },
  {
   "cell_type": "code",
   "execution_count": 43,
   "metadata": {},
   "outputs": [
    {
     "data": {
      "text/plain": [
       "ROBO DE OBJETOS                                                         4800\n",
       "FRAUDE                                                                  4183\n",
       "ROBO A NEGOCIO SIN VIOLENCIA                                            3867\n",
       "ROBO A TRANSEUNTE EN VIA PUBLICA CON VIOLENCIA                          3679\n",
       "ROBO DE OBJETOS DEL INTERIOR DE UN VEHICULO                             2572\n",
       "VIOLENCIA FAMILIAR                                                      2335\n",
       "DENUNCIA DE HECHOS                                                      1898\n",
       "FALSIFICACION DE TITULOS AL PORTADOR Y DOCUMENTOS DE CREDITO PUBLICO    1807\n",
       "AMENAZAS                                                                1679\n",
       "ROBO A PASAJERO / CONDUCTOR DE VEHICULO CON VIOLENCIA                   1624\n",
       "Name: 0, dtype: int64"
      ]
     },
     "execution_count": 43,
     "metadata": {},
     "output_type": "execute_result"
    }
   ],
   "source": [
    "migueldf[0].value_counts().head(10)"
   ]
  },
  {
   "cell_type": "code",
   "execution_count": 405,
   "metadata": {},
   "outputs": [
    {
     "data": {
      "text/html": [
       "<div>\n",
       "<style scoped>\n",
       "    .dataframe tbody tr th:only-of-type {\n",
       "        vertical-align: middle;\n",
       "    }\n",
       "\n",
       "    .dataframe tbody tr th {\n",
       "        vertical-align: top;\n",
       "    }\n",
       "\n",
       "    .dataframe thead th {\n",
       "        text-align: right;\n",
       "    }\n",
       "</style>\n",
       "<table border=\"1\" class=\"dataframe\">\n",
       "  <thead>\n",
       "    <tr style=\"text-align: right;\">\n",
       "      <th></th>\n",
       "      <th>CRIME</th>\n",
       "      <th>YEAR</th>\n",
       "    </tr>\n",
       "  </thead>\n",
       "  <tbody>\n",
       "    <tr>\n",
       "      <td>0</td>\n",
       "      <td>ROBO DE OBJETOS</td>\n",
       "      <td>4800</td>\n",
       "    </tr>\n",
       "    <tr>\n",
       "      <td>1</td>\n",
       "      <td>FRAUDE</td>\n",
       "      <td>4183</td>\n",
       "    </tr>\n",
       "    <tr>\n",
       "      <td>2</td>\n",
       "      <td>ROBO A NEGOCIO SIN VIOLENCIA</td>\n",
       "      <td>3867</td>\n",
       "    </tr>\n",
       "    <tr>\n",
       "      <td>3</td>\n",
       "      <td>ROBO A TRANSEUNTE EN VIA PUBLICA CON VIOLENCIA</td>\n",
       "      <td>3679</td>\n",
       "    </tr>\n",
       "    <tr>\n",
       "      <td>4</td>\n",
       "      <td>ROBO DE OBJETOS DEL INTERIOR DE UN VEHICULO</td>\n",
       "      <td>2572</td>\n",
       "    </tr>\n",
       "    <tr>\n",
       "      <td>5</td>\n",
       "      <td>VIOLENCIA FAMILIAR</td>\n",
       "      <td>2335</td>\n",
       "    </tr>\n",
       "    <tr>\n",
       "      <td>6</td>\n",
       "      <td>DENUNCIA DE HECHOS</td>\n",
       "      <td>1898</td>\n",
       "    </tr>\n",
       "    <tr>\n",
       "      <td>7</td>\n",
       "      <td>FALSIFICACION DE TITULOS AL PORTADOR Y DOCUMEN...</td>\n",
       "      <td>1807</td>\n",
       "    </tr>\n",
       "    <tr>\n",
       "      <td>8</td>\n",
       "      <td>AMENAZAS</td>\n",
       "      <td>1679</td>\n",
       "    </tr>\n",
       "    <tr>\n",
       "      <td>9</td>\n",
       "      <td>ROBO A PASAJERO / CONDUCTOR DE VEHICULO CON VI...</td>\n",
       "      <td>1624</td>\n",
       "    </tr>\n",
       "  </tbody>\n",
       "</table>\n",
       "</div>"
      ],
      "text/plain": [
       "                                               CRIME  YEAR\n",
       "0                                    ROBO DE OBJETOS  4800\n",
       "1                                             FRAUDE  4183\n",
       "2                       ROBO A NEGOCIO SIN VIOLENCIA  3867\n",
       "3     ROBO A TRANSEUNTE EN VIA PUBLICA CON VIOLENCIA  3679\n",
       "4        ROBO DE OBJETOS DEL INTERIOR DE UN VEHICULO  2572\n",
       "5                                 VIOLENCIA FAMILIAR  2335\n",
       "6                                 DENUNCIA DE HECHOS  1898\n",
       "7  FALSIFICACION DE TITULOS AL PORTADOR Y DOCUMEN...  1807\n",
       "8                                           AMENAZAS  1679\n",
       "9  ROBO A PASAJERO / CONDUCTOR DE VEHICULO CON VI...  1624"
      ]
     },
     "execution_count": 405,
     "metadata": {},
     "output_type": "execute_result"
    }
   ],
   "source": [
    "migueldf=migueldf.rename(columns={0:'CRIME', 1:\"YEAR\"})\n",
    "miguelplot=migueldf.groupby([\"CRIME\"]).count().sort_values(\"YEAR\", ascending=False).head(10).reset_index(inplace=False)\n",
    "miguelplot"
   ]
  },
  {
   "cell_type": "markdown",
   "metadata": {},
   "source": [
    "*TLALPAN"
   ]
  },
  {
   "cell_type": "code",
   "execution_count": 12,
   "metadata": {},
   "outputs": [],
   "source": [
    "from itertools import islice\n",
    "\n",
    "tlalpan=[]\n",
    "for i, row in df.iterrows(): #head(500)\n",
    "    \n",
    "    try:\n",
    "        \n",
    "        if df[\"fields\"][i][\"alcaldia_hechos\"]==\"TLALPAN\" and df[\"fields\"][i][\"ao_hechos\"] >= \"2016\":\n",
    "            tlalpan.append((df[\"fields\"][i][\"delito\"],df[\"fields\"][i][\"ao_hechos\"]))\n",
    "    except:\n",
    "        tlalpan.append(np.nan)"
   ]
  },
  {
   "cell_type": "code",
   "execution_count": 28,
   "metadata": {},
   "outputs": [],
   "source": [
    "tlalpandf=pd.DataFrame(tlalpan)"
   ]
  },
  {
   "cell_type": "code",
   "execution_count": 44,
   "metadata": {},
   "outputs": [
    {
     "data": {
      "text/plain": [
       "VIOLENCIA FAMILIAR                                                      5434\n",
       "ROBO A NEGOCIO SIN VIOLENCIA                                            3225\n",
       "ROBO DE OBJETOS                                                         3014\n",
       "AMENAZAS                                                                2899\n",
       "FRAUDE                                                                  2134\n",
       "ROBO A CASA HABITACION SIN VIOLENCIA                                    1887\n",
       "DENUNCIA DE HECHOS                                                      1701\n",
       "ROBO DE OBJETOS DEL INTERIOR DE UN VEHICULO                             1583\n",
       "FALSIFICACION DE TITULOS AL PORTADOR Y DOCUMENTOS DE CREDITO PUBLICO    1577\n",
       "ROBO DE ACCESORIOS DE AUTO                                              1555\n",
       "Name: 0, dtype: int64"
      ]
     },
     "execution_count": 44,
     "metadata": {},
     "output_type": "execute_result"
    }
   ],
   "source": [
    "tlalpandf[0].value_counts().head(10)"
   ]
  },
  {
   "cell_type": "code",
   "execution_count": 406,
   "metadata": {},
   "outputs": [
    {
     "data": {
      "text/html": [
       "<div>\n",
       "<style scoped>\n",
       "    .dataframe tbody tr th:only-of-type {\n",
       "        vertical-align: middle;\n",
       "    }\n",
       "\n",
       "    .dataframe tbody tr th {\n",
       "        vertical-align: top;\n",
       "    }\n",
       "\n",
       "    .dataframe thead th {\n",
       "        text-align: right;\n",
       "    }\n",
       "</style>\n",
       "<table border=\"1\" class=\"dataframe\">\n",
       "  <thead>\n",
       "    <tr style=\"text-align: right;\">\n",
       "      <th></th>\n",
       "      <th>CRIME</th>\n",
       "      <th>YEAR</th>\n",
       "    </tr>\n",
       "  </thead>\n",
       "  <tbody>\n",
       "    <tr>\n",
       "      <td>0</td>\n",
       "      <td>VIOLENCIA FAMILIAR</td>\n",
       "      <td>5434</td>\n",
       "    </tr>\n",
       "    <tr>\n",
       "      <td>1</td>\n",
       "      <td>ROBO A NEGOCIO SIN VIOLENCIA</td>\n",
       "      <td>3225</td>\n",
       "    </tr>\n",
       "    <tr>\n",
       "      <td>2</td>\n",
       "      <td>ROBO DE OBJETOS</td>\n",
       "      <td>3014</td>\n",
       "    </tr>\n",
       "    <tr>\n",
       "      <td>3</td>\n",
       "      <td>AMENAZAS</td>\n",
       "      <td>2899</td>\n",
       "    </tr>\n",
       "    <tr>\n",
       "      <td>4</td>\n",
       "      <td>FRAUDE</td>\n",
       "      <td>2134</td>\n",
       "    </tr>\n",
       "    <tr>\n",
       "      <td>5</td>\n",
       "      <td>ROBO A CASA HABITACION SIN VIOLENCIA</td>\n",
       "      <td>1887</td>\n",
       "    </tr>\n",
       "    <tr>\n",
       "      <td>6</td>\n",
       "      <td>DENUNCIA DE HECHOS</td>\n",
       "      <td>1701</td>\n",
       "    </tr>\n",
       "    <tr>\n",
       "      <td>7</td>\n",
       "      <td>ROBO DE OBJETOS DEL INTERIOR DE UN VEHICULO</td>\n",
       "      <td>1583</td>\n",
       "    </tr>\n",
       "    <tr>\n",
       "      <td>8</td>\n",
       "      <td>FALSIFICACION DE TITULOS AL PORTADOR Y DOCUMEN...</td>\n",
       "      <td>1577</td>\n",
       "    </tr>\n",
       "    <tr>\n",
       "      <td>9</td>\n",
       "      <td>ROBO DE ACCESORIOS DE AUTO</td>\n",
       "      <td>1555</td>\n",
       "    </tr>\n",
       "  </tbody>\n",
       "</table>\n",
       "</div>"
      ],
      "text/plain": [
       "                                               CRIME  YEAR\n",
       "0                                 VIOLENCIA FAMILIAR  5434\n",
       "1                       ROBO A NEGOCIO SIN VIOLENCIA  3225\n",
       "2                                    ROBO DE OBJETOS  3014\n",
       "3                                           AMENAZAS  2899\n",
       "4                                             FRAUDE  2134\n",
       "5               ROBO A CASA HABITACION SIN VIOLENCIA  1887\n",
       "6                                 DENUNCIA DE HECHOS  1701\n",
       "7        ROBO DE OBJETOS DEL INTERIOR DE UN VEHICULO  1583\n",
       "8  FALSIFICACION DE TITULOS AL PORTADOR Y DOCUMEN...  1577\n",
       "9                         ROBO DE ACCESORIOS DE AUTO  1555"
      ]
     },
     "execution_count": 406,
     "metadata": {},
     "output_type": "execute_result"
    }
   ],
   "source": [
    "tlalpandf=tlalpandf.rename(columns={0:'CRIME', 1:\"YEAR\"})\n",
    "tlalpanplot=tlalpandf.groupby([\"CRIME\"]).count().sort_values(\"YEAR\", ascending=False).head(10).reset_index(inplace=False)\n",
    "tlalpanplot"
   ]
  },
  {
   "cell_type": "markdown",
   "metadata": {},
   "source": [
    "*CUAJIMALPA DE MORELOS"
   ]
  },
  {
   "cell_type": "code",
   "execution_count": 13,
   "metadata": {},
   "outputs": [],
   "source": [
    "from itertools import islice\n",
    "\n",
    "cuajimalpa=[]\n",
    "for i, row in df.iterrows(): #head(500)\n",
    "    \n",
    "    try:\n",
    "        \n",
    "        if df[\"fields\"][i][\"alcaldia_hechos\"]==\"CUAJIMALPA DE MORELOS\" and df[\"fields\"][i][\"ao_hechos\"] >= \"2016\":\n",
    "            cuajimalpa.append((df[\"fields\"][i][\"delito\"],df[\"fields\"][i][\"ao_hechos\"]))\n",
    "    except:\n",
    "        cuajimalpa.append(np.nan)"
   ]
  },
  {
   "cell_type": "code",
   "execution_count": 31,
   "metadata": {},
   "outputs": [],
   "source": [
    "cuajimalpadf=pd.DataFrame(cuajimalpa)"
   ]
  },
  {
   "cell_type": "code",
   "execution_count": 45,
   "metadata": {},
   "outputs": [
    {
     "data": {
      "text/plain": [
       "VIOLENCIA FAMILIAR                                                      1261\n",
       "ROBO A NEGOCIO SIN VIOLENCIA                                             976\n",
       "ROBO DE OBJETOS                                                          803\n",
       "FRAUDE                                                                   710\n",
       "AMENAZAS                                                                 469\n",
       "ROBO A CASA HABITACION SIN VIOLENCIA                                     401\n",
       "ROBO DE OBJETOS DEL INTERIOR DE UN VEHICULO                              378\n",
       "DENUNCIA DE HECHOS                                                       354\n",
       "FALSIFICACION DE TITULOS AL PORTADOR Y DOCUMENTOS DE CREDITO PUBLICO     337\n",
       "DAÑO EN PROPIEDAD AJENA CULPOSA POR TRÁNSITO VEHICULAR A AUTOMOVIL       316\n",
       "Name: 0, dtype: int64"
      ]
     },
     "execution_count": 45,
     "metadata": {},
     "output_type": "execute_result"
    }
   ],
   "source": [
    "cuajimalpadf[0].value_counts().head(10)"
   ]
  },
  {
   "cell_type": "code",
   "execution_count": 407,
   "metadata": {},
   "outputs": [
    {
     "data": {
      "text/html": [
       "<div>\n",
       "<style scoped>\n",
       "    .dataframe tbody tr th:only-of-type {\n",
       "        vertical-align: middle;\n",
       "    }\n",
       "\n",
       "    .dataframe tbody tr th {\n",
       "        vertical-align: top;\n",
       "    }\n",
       "\n",
       "    .dataframe thead th {\n",
       "        text-align: right;\n",
       "    }\n",
       "</style>\n",
       "<table border=\"1\" class=\"dataframe\">\n",
       "  <thead>\n",
       "    <tr style=\"text-align: right;\">\n",
       "      <th></th>\n",
       "      <th>CRIME</th>\n",
       "      <th>YEAR</th>\n",
       "    </tr>\n",
       "  </thead>\n",
       "  <tbody>\n",
       "    <tr>\n",
       "      <td>0</td>\n",
       "      <td>VIOLENCIA FAMILIAR</td>\n",
       "      <td>1261</td>\n",
       "    </tr>\n",
       "    <tr>\n",
       "      <td>1</td>\n",
       "      <td>ROBO A NEGOCIO SIN VIOLENCIA</td>\n",
       "      <td>976</td>\n",
       "    </tr>\n",
       "    <tr>\n",
       "      <td>2</td>\n",
       "      <td>ROBO DE OBJETOS</td>\n",
       "      <td>803</td>\n",
       "    </tr>\n",
       "    <tr>\n",
       "      <td>3</td>\n",
       "      <td>FRAUDE</td>\n",
       "      <td>710</td>\n",
       "    </tr>\n",
       "    <tr>\n",
       "      <td>4</td>\n",
       "      <td>AMENAZAS</td>\n",
       "      <td>469</td>\n",
       "    </tr>\n",
       "    <tr>\n",
       "      <td>5</td>\n",
       "      <td>ROBO A CASA HABITACION SIN VIOLENCIA</td>\n",
       "      <td>401</td>\n",
       "    </tr>\n",
       "    <tr>\n",
       "      <td>6</td>\n",
       "      <td>ROBO DE OBJETOS DEL INTERIOR DE UN VEHICULO</td>\n",
       "      <td>378</td>\n",
       "    </tr>\n",
       "    <tr>\n",
       "      <td>7</td>\n",
       "      <td>DENUNCIA DE HECHOS</td>\n",
       "      <td>354</td>\n",
       "    </tr>\n",
       "    <tr>\n",
       "      <td>8</td>\n",
       "      <td>FALSIFICACION DE TITULOS AL PORTADOR Y DOCUMEN...</td>\n",
       "      <td>337</td>\n",
       "    </tr>\n",
       "    <tr>\n",
       "      <td>9</td>\n",
       "      <td>DAÑO EN PROPIEDAD AJENA CULPOSA POR TRÁNSITO V...</td>\n",
       "      <td>316</td>\n",
       "    </tr>\n",
       "  </tbody>\n",
       "</table>\n",
       "</div>"
      ],
      "text/plain": [
       "                                               CRIME  YEAR\n",
       "0                                 VIOLENCIA FAMILIAR  1261\n",
       "1                       ROBO A NEGOCIO SIN VIOLENCIA   976\n",
       "2                                    ROBO DE OBJETOS   803\n",
       "3                                             FRAUDE   710\n",
       "4                                           AMENAZAS   469\n",
       "5               ROBO A CASA HABITACION SIN VIOLENCIA   401\n",
       "6        ROBO DE OBJETOS DEL INTERIOR DE UN VEHICULO   378\n",
       "7                                 DENUNCIA DE HECHOS   354\n",
       "8  FALSIFICACION DE TITULOS AL PORTADOR Y DOCUMEN...   337\n",
       "9  DAÑO EN PROPIEDAD AJENA CULPOSA POR TRÁNSITO V...   316"
      ]
     },
     "execution_count": 407,
     "metadata": {},
     "output_type": "execute_result"
    }
   ],
   "source": [
    "cuajimalpadf=cuajimalpadf.rename(columns={0:'CRIME', 1:\"YEAR\"})\n",
    "cuajimalpaplot=cuajimalpadf.groupby([\"CRIME\"]).count().sort_values(\"YEAR\", ascending=False).head(10).reset_index(inplace=False)\n",
    "cuajimalpaplot"
   ]
  },
  {
   "cell_type": "markdown",
   "metadata": {},
   "source": [
    "*XOCHIMILCO"
   ]
  },
  {
   "cell_type": "code",
   "execution_count": 14,
   "metadata": {},
   "outputs": [],
   "source": [
    "from itertools import islice\n",
    "\n",
    "xochimilco=[]\n",
    "for i, row in df.iterrows(): #head(500)\n",
    "    \n",
    "    try:\n",
    "        \n",
    "        if df[\"fields\"][i][\"alcaldia_hechos\"]==\"XOCHIMILCO\" and df[\"fields\"][i][\"ao_hechos\"] >= \"2016\":\n",
    "            xochimilco.append((df[\"fields\"][i][\"delito\"],df[\"fields\"][i][\"ao_hechos\"]))\n",
    "    except:\n",
    "        xochimilco.append(np.nan)"
   ]
  },
  {
   "cell_type": "code",
   "execution_count": 29,
   "metadata": {},
   "outputs": [],
   "source": [
    "xochimilcodf=pd.DataFrame(xochimilco)"
   ]
  },
  {
   "cell_type": "code",
   "execution_count": 46,
   "metadata": {},
   "outputs": [
    {
     "data": {
      "text/plain": [
       "VIOLENCIA FAMILIAR                                       3634\n",
       "AMENAZAS                                                 1646\n",
       "ROBO A TRANSEUNTE EN VIA PUBLICA CON VIOLENCIA           1585\n",
       "ROBO A CASA HABITACION SIN VIOLENCIA                     1157\n",
       "ROBO DE VEHICULO DE SERVICIO PARTICULAR SIN VIOLENCIA    1103\n",
       "ROBO DE OBJETOS                                           984\n",
       "ROBO A NEGOCIO SIN VIOLENCIA                              910\n",
       "DESPOJO                                                   786\n",
       "FRAUDE                                                    722\n",
       "ROBO DE OBJETOS DEL INTERIOR DE UN VEHICULO               620\n",
       "Name: 0, dtype: int64"
      ]
     },
     "execution_count": 46,
     "metadata": {},
     "output_type": "execute_result"
    }
   ],
   "source": [
    "xochimilcodf[0].value_counts().head(10)"
   ]
  },
  {
   "cell_type": "code",
   "execution_count": 408,
   "metadata": {},
   "outputs": [
    {
     "data": {
      "text/html": [
       "<div>\n",
       "<style scoped>\n",
       "    .dataframe tbody tr th:only-of-type {\n",
       "        vertical-align: middle;\n",
       "    }\n",
       "\n",
       "    .dataframe tbody tr th {\n",
       "        vertical-align: top;\n",
       "    }\n",
       "\n",
       "    .dataframe thead th {\n",
       "        text-align: right;\n",
       "    }\n",
       "</style>\n",
       "<table border=\"1\" class=\"dataframe\">\n",
       "  <thead>\n",
       "    <tr style=\"text-align: right;\">\n",
       "      <th></th>\n",
       "      <th>CRIME</th>\n",
       "      <th>YEAR</th>\n",
       "    </tr>\n",
       "  </thead>\n",
       "  <tbody>\n",
       "    <tr>\n",
       "      <td>0</td>\n",
       "      <td>VIOLENCIA FAMILIAR</td>\n",
       "      <td>3634</td>\n",
       "    </tr>\n",
       "    <tr>\n",
       "      <td>1</td>\n",
       "      <td>AMENAZAS</td>\n",
       "      <td>1646</td>\n",
       "    </tr>\n",
       "    <tr>\n",
       "      <td>2</td>\n",
       "      <td>ROBO A TRANSEUNTE EN VIA PUBLICA CON VIOLENCIA</td>\n",
       "      <td>1585</td>\n",
       "    </tr>\n",
       "    <tr>\n",
       "      <td>3</td>\n",
       "      <td>ROBO A CASA HABITACION SIN VIOLENCIA</td>\n",
       "      <td>1157</td>\n",
       "    </tr>\n",
       "    <tr>\n",
       "      <td>4</td>\n",
       "      <td>ROBO DE VEHICULO DE SERVICIO PARTICULAR SIN VI...</td>\n",
       "      <td>1103</td>\n",
       "    </tr>\n",
       "    <tr>\n",
       "      <td>5</td>\n",
       "      <td>ROBO DE OBJETOS</td>\n",
       "      <td>984</td>\n",
       "    </tr>\n",
       "    <tr>\n",
       "      <td>6</td>\n",
       "      <td>ROBO A NEGOCIO SIN VIOLENCIA</td>\n",
       "      <td>910</td>\n",
       "    </tr>\n",
       "    <tr>\n",
       "      <td>7</td>\n",
       "      <td>DESPOJO</td>\n",
       "      <td>786</td>\n",
       "    </tr>\n",
       "    <tr>\n",
       "      <td>8</td>\n",
       "      <td>FRAUDE</td>\n",
       "      <td>722</td>\n",
       "    </tr>\n",
       "    <tr>\n",
       "      <td>9</td>\n",
       "      <td>ROBO DE OBJETOS DEL INTERIOR DE UN VEHICULO</td>\n",
       "      <td>620</td>\n",
       "    </tr>\n",
       "  </tbody>\n",
       "</table>\n",
       "</div>"
      ],
      "text/plain": [
       "                                               CRIME  YEAR\n",
       "0                                 VIOLENCIA FAMILIAR  3634\n",
       "1                                           AMENAZAS  1646\n",
       "2     ROBO A TRANSEUNTE EN VIA PUBLICA CON VIOLENCIA  1585\n",
       "3               ROBO A CASA HABITACION SIN VIOLENCIA  1157\n",
       "4  ROBO DE VEHICULO DE SERVICIO PARTICULAR SIN VI...  1103\n",
       "5                                    ROBO DE OBJETOS   984\n",
       "6                       ROBO A NEGOCIO SIN VIOLENCIA   910\n",
       "7                                            DESPOJO   786\n",
       "8                                             FRAUDE   722\n",
       "9        ROBO DE OBJETOS DEL INTERIOR DE UN VEHICULO   620"
      ]
     },
     "execution_count": 408,
     "metadata": {},
     "output_type": "execute_result"
    }
   ],
   "source": [
    "xochimilcodf=xochimilcodf.rename(columns={0:'CRIME', 1:\"YEAR\"})\n",
    "xochimilcoplot=xochimilcodf.groupby([\"CRIME\"]).count().sort_values(\"YEAR\", ascending=False).head(10).reset_index(inplace=False)\n",
    "xochimilcoplot"
   ]
  },
  {
   "cell_type": "markdown",
   "metadata": {},
   "source": [
    "*ALVARO OBREGON"
   ]
  },
  {
   "cell_type": "code",
   "execution_count": 15,
   "metadata": {},
   "outputs": [],
   "source": [
    "from itertools import islice\n",
    "\n",
    "alvaro=[]\n",
    "for i, row in df.iterrows(): #head(500)\n",
    "    \n",
    "    try:\n",
    "        \n",
    "        if df[\"fields\"][i][\"alcaldia_hechos\"]==\"ALVARO OBREGON\" and df[\"fields\"][i][\"ao_hechos\"] >= \"2016\":\n",
    "            alvaro.append((df[\"fields\"][i][\"delito\"],df[\"fields\"][i][\"ao_hechos\"]))\n",
    "    except:\n",
    "        alvaro.append(np.nan)"
   ]
  },
  {
   "cell_type": "code",
   "execution_count": 30,
   "metadata": {},
   "outputs": [],
   "source": [
    "alvarodf=pd.DataFrame(alvaro)"
   ]
  },
  {
   "cell_type": "code",
   "execution_count": 47,
   "metadata": {},
   "outputs": [
    {
     "data": {
      "text/plain": [
       "VIOLENCIA FAMILIAR                                                      5353\n",
       "ROBO A NEGOCIO SIN VIOLENCIA                                            3580\n",
       "ROBO DE OBJETOS                                                         3178\n",
       "AMENAZAS                                                                2601\n",
       "FRAUDE                                                                  2445\n",
       "DENUNCIA DE HECHOS                                                      2372\n",
       "ROBO A TRANSEUNTE EN VIA PUBLICA CON VIOLENCIA                          2357\n",
       "ROBO DE OBJETOS DEL INTERIOR DE UN VEHICULO                             2243\n",
       "ROBO A PASAJERO / CONDUCTOR DE VEHICULO CON VIOLENCIA                   2094\n",
       "FALSIFICACION DE TITULOS AL PORTADOR Y DOCUMENTOS DE CREDITO PUBLICO    1790\n",
       "Name: 0, dtype: int64"
      ]
     },
     "execution_count": 47,
     "metadata": {},
     "output_type": "execute_result"
    }
   ],
   "source": [
    "alvarodf[0].value_counts().head(10)"
   ]
  },
  {
   "cell_type": "code",
   "execution_count": 409,
   "metadata": {},
   "outputs": [
    {
     "data": {
      "text/html": [
       "<div>\n",
       "<style scoped>\n",
       "    .dataframe tbody tr th:only-of-type {\n",
       "        vertical-align: middle;\n",
       "    }\n",
       "\n",
       "    .dataframe tbody tr th {\n",
       "        vertical-align: top;\n",
       "    }\n",
       "\n",
       "    .dataframe thead th {\n",
       "        text-align: right;\n",
       "    }\n",
       "</style>\n",
       "<table border=\"1\" class=\"dataframe\">\n",
       "  <thead>\n",
       "    <tr style=\"text-align: right;\">\n",
       "      <th></th>\n",
       "      <th>CRIME</th>\n",
       "      <th>YEAR</th>\n",
       "    </tr>\n",
       "  </thead>\n",
       "  <tbody>\n",
       "    <tr>\n",
       "      <td>0</td>\n",
       "      <td>VIOLENCIA FAMILIAR</td>\n",
       "      <td>5353</td>\n",
       "    </tr>\n",
       "    <tr>\n",
       "      <td>1</td>\n",
       "      <td>ROBO A NEGOCIO SIN VIOLENCIA</td>\n",
       "      <td>3580</td>\n",
       "    </tr>\n",
       "    <tr>\n",
       "      <td>2</td>\n",
       "      <td>ROBO DE OBJETOS</td>\n",
       "      <td>3178</td>\n",
       "    </tr>\n",
       "    <tr>\n",
       "      <td>3</td>\n",
       "      <td>AMENAZAS</td>\n",
       "      <td>2601</td>\n",
       "    </tr>\n",
       "    <tr>\n",
       "      <td>4</td>\n",
       "      <td>FRAUDE</td>\n",
       "      <td>2445</td>\n",
       "    </tr>\n",
       "    <tr>\n",
       "      <td>5</td>\n",
       "      <td>DENUNCIA DE HECHOS</td>\n",
       "      <td>2372</td>\n",
       "    </tr>\n",
       "    <tr>\n",
       "      <td>6</td>\n",
       "      <td>ROBO A TRANSEUNTE EN VIA PUBLICA CON VIOLENCIA</td>\n",
       "      <td>2357</td>\n",
       "    </tr>\n",
       "    <tr>\n",
       "      <td>7</td>\n",
       "      <td>ROBO DE OBJETOS DEL INTERIOR DE UN VEHICULO</td>\n",
       "      <td>2243</td>\n",
       "    </tr>\n",
       "    <tr>\n",
       "      <td>8</td>\n",
       "      <td>ROBO A PASAJERO / CONDUCTOR DE VEHICULO CON VI...</td>\n",
       "      <td>2094</td>\n",
       "    </tr>\n",
       "    <tr>\n",
       "      <td>9</td>\n",
       "      <td>FALSIFICACION DE TITULOS AL PORTADOR Y DOCUMEN...</td>\n",
       "      <td>1790</td>\n",
       "    </tr>\n",
       "  </tbody>\n",
       "</table>\n",
       "</div>"
      ],
      "text/plain": [
       "                                               CRIME  YEAR\n",
       "0                                 VIOLENCIA FAMILIAR  5353\n",
       "1                       ROBO A NEGOCIO SIN VIOLENCIA  3580\n",
       "2                                    ROBO DE OBJETOS  3178\n",
       "3                                           AMENAZAS  2601\n",
       "4                                             FRAUDE  2445\n",
       "5                                 DENUNCIA DE HECHOS  2372\n",
       "6     ROBO A TRANSEUNTE EN VIA PUBLICA CON VIOLENCIA  2357\n",
       "7        ROBO DE OBJETOS DEL INTERIOR DE UN VEHICULO  2243\n",
       "8  ROBO A PASAJERO / CONDUCTOR DE VEHICULO CON VI...  2094\n",
       "9  FALSIFICACION DE TITULOS AL PORTADOR Y DOCUMEN...  1790"
      ]
     },
     "execution_count": 409,
     "metadata": {},
     "output_type": "execute_result"
    }
   ],
   "source": [
    "alvarodf=alvarodf.rename(columns={0:'CRIME', 1:\"YEAR\"})\n",
    "alvaroplot=alvarodf.groupby([\"CRIME\"]).count().sort_values(\"YEAR\", ascending=False).head(10).reset_index(inplace=False)\n",
    "alvaroplot"
   ]
  },
  {
   "cell_type": "markdown",
   "metadata": {},
   "source": [
    "*BENITO JUAREZ"
   ]
  },
  {
   "cell_type": "code",
   "execution_count": 16,
   "metadata": {},
   "outputs": [],
   "source": [
    "from itertools import islice\n",
    "\n",
    "benito=[]\n",
    "for i, row in df.iterrows(): #head(500)\n",
    "    \n",
    "    try:\n",
    "        \n",
    "        if df[\"fields\"][i][\"alcaldia_hechos\"]==\"BENITO JUAREZ\" and df[\"fields\"][i][\"ao_hechos\"] >= \"2016\":\n",
    "            benito.append((df[\"fields\"][i][\"delito\"],df[\"fields\"][i][\"ao_hechos\"]))\n",
    "    except:\n",
    "        benito.append(np.nan)"
   ]
  },
  {
   "cell_type": "code",
   "execution_count": 50,
   "metadata": {},
   "outputs": [],
   "source": [
    "benitodf=pd.DataFrame(benito)"
   ]
  },
  {
   "cell_type": "code",
   "execution_count": 51,
   "metadata": {},
   "outputs": [
    {
     "data": {
      "text/plain": [
       "ROBO A NEGOCIO SIN VIOLENCIA                                            6435\n",
       "FRAUDE                                                                  5898\n",
       "ROBO DE ACCESORIOS DE AUTO                                              5744\n",
       "ROBO DE OBJETOS                                                         4532\n",
       "FALSIFICACION DE TITULOS AL PORTADOR Y DOCUMENTOS DE CREDITO PUBLICO    4177\n",
       "ROBO DE OBJETOS DEL INTERIOR DE UN VEHICULO                             2922\n",
       "VIOLENCIA FAMILIAR                                                      2895\n",
       "DENUNCIA DE HECHOS                                                      2544\n",
       "ROBO A TRANSEUNTE EN VIA PUBLICA CON VIOLENCIA                          2527\n",
       "AMENAZAS                                                                2523\n",
       "Name: 0, dtype: int64"
      ]
     },
     "execution_count": 51,
     "metadata": {},
     "output_type": "execute_result"
    }
   ],
   "source": [
    "benitodf[0].value_counts().head(10)"
   ]
  },
  {
   "cell_type": "code",
   "execution_count": 410,
   "metadata": {},
   "outputs": [
    {
     "data": {
      "text/html": [
       "<div>\n",
       "<style scoped>\n",
       "    .dataframe tbody tr th:only-of-type {\n",
       "        vertical-align: middle;\n",
       "    }\n",
       "\n",
       "    .dataframe tbody tr th {\n",
       "        vertical-align: top;\n",
       "    }\n",
       "\n",
       "    .dataframe thead th {\n",
       "        text-align: right;\n",
       "    }\n",
       "</style>\n",
       "<table border=\"1\" class=\"dataframe\">\n",
       "  <thead>\n",
       "    <tr style=\"text-align: right;\">\n",
       "      <th></th>\n",
       "      <th>CRIME</th>\n",
       "      <th>YEAR</th>\n",
       "    </tr>\n",
       "  </thead>\n",
       "  <tbody>\n",
       "    <tr>\n",
       "      <td>0</td>\n",
       "      <td>ROBO A NEGOCIO SIN VIOLENCIA</td>\n",
       "      <td>6435</td>\n",
       "    </tr>\n",
       "    <tr>\n",
       "      <td>1</td>\n",
       "      <td>FRAUDE</td>\n",
       "      <td>5898</td>\n",
       "    </tr>\n",
       "    <tr>\n",
       "      <td>2</td>\n",
       "      <td>ROBO DE ACCESORIOS DE AUTO</td>\n",
       "      <td>5744</td>\n",
       "    </tr>\n",
       "    <tr>\n",
       "      <td>3</td>\n",
       "      <td>ROBO DE OBJETOS</td>\n",
       "      <td>4532</td>\n",
       "    </tr>\n",
       "    <tr>\n",
       "      <td>4</td>\n",
       "      <td>FALSIFICACION DE TITULOS AL PORTADOR Y DOCUMEN...</td>\n",
       "      <td>4177</td>\n",
       "    </tr>\n",
       "    <tr>\n",
       "      <td>5</td>\n",
       "      <td>ROBO DE OBJETOS DEL INTERIOR DE UN VEHICULO</td>\n",
       "      <td>2922</td>\n",
       "    </tr>\n",
       "    <tr>\n",
       "      <td>6</td>\n",
       "      <td>VIOLENCIA FAMILIAR</td>\n",
       "      <td>2895</td>\n",
       "    </tr>\n",
       "    <tr>\n",
       "      <td>7</td>\n",
       "      <td>DENUNCIA DE HECHOS</td>\n",
       "      <td>2544</td>\n",
       "    </tr>\n",
       "    <tr>\n",
       "      <td>8</td>\n",
       "      <td>ROBO A TRANSEUNTE EN VIA PUBLICA CON VIOLENCIA</td>\n",
       "      <td>2527</td>\n",
       "    </tr>\n",
       "    <tr>\n",
       "      <td>9</td>\n",
       "      <td>AMENAZAS</td>\n",
       "      <td>2523</td>\n",
       "    </tr>\n",
       "  </tbody>\n",
       "</table>\n",
       "</div>"
      ],
      "text/plain": [
       "                                               CRIME  YEAR\n",
       "0                       ROBO A NEGOCIO SIN VIOLENCIA  6435\n",
       "1                                             FRAUDE  5898\n",
       "2                         ROBO DE ACCESORIOS DE AUTO  5744\n",
       "3                                    ROBO DE OBJETOS  4532\n",
       "4  FALSIFICACION DE TITULOS AL PORTADOR Y DOCUMEN...  4177\n",
       "5        ROBO DE OBJETOS DEL INTERIOR DE UN VEHICULO  2922\n",
       "6                                 VIOLENCIA FAMILIAR  2895\n",
       "7                                 DENUNCIA DE HECHOS  2544\n",
       "8     ROBO A TRANSEUNTE EN VIA PUBLICA CON VIOLENCIA  2527\n",
       "9                                           AMENAZAS  2523"
      ]
     },
     "execution_count": 410,
     "metadata": {},
     "output_type": "execute_result"
    }
   ],
   "source": [
    "benitodf=benitodf.rename(columns={0:'CRIME', 1:\"YEAR\"})\n",
    "benitoplot=benitodf.groupby([\"CRIME\"]).count().sort_values(\"YEAR\", ascending=False).head(10).reset_index(inplace=False)\n",
    "benitoplot"
   ]
  },
  {
   "cell_type": "markdown",
   "metadata": {},
   "source": [
    "*LA MAGADALENA CONTRERAS"
   ]
  },
  {
   "cell_type": "code",
   "execution_count": 58,
   "metadata": {},
   "outputs": [],
   "source": [
    "from itertools import islice\n",
    "\n",
    "magdalena=[]\n",
    "for i, row in df.iterrows(): #head(500)\n",
    "    \n",
    "    try:\n",
    "        \n",
    "        if df[\"fields\"][i][\"alcaldia_hechos\"]==\"LA MAGDALENA CONTRERAS\" and df[\"fields\"][i][\"ao_hechos\"] >= \"2016\":\n",
    "            magdalena.append((df[\"fields\"][i][\"delito\"],df[\"fields\"][i][\"ao_hechos\"]))\n",
    "    except:\n",
    "        magdalena.append(np.nan)"
   ]
  },
  {
   "cell_type": "code",
   "execution_count": 60,
   "metadata": {},
   "outputs": [],
   "source": [
    "magdalenadf=pd.DataFrame(magdalena)"
   ]
  },
  {
   "cell_type": "code",
   "execution_count": 61,
   "metadata": {},
   "outputs": [
    {
     "data": {
      "text/plain": [
       "VIOLENCIA FAMILIAR                                       2669\n",
       "AMENAZAS                                                  918\n",
       "ROBO A CASA HABITACION SIN VIOLENCIA                      649\n",
       "ROBO DE OBJETOS                                           577\n",
       "DENUNCIA DE HECHOS                                        505\n",
       "FRAUDE                                                    449\n",
       "ROBO A NEGOCIO SIN VIOLENCIA                              365\n",
       "ROBO DE VEHICULO DE SERVICIO PARTICULAR SIN VIOLENCIA     351\n",
       "ROBO A TRANSEUNTE EN VIA PUBLICA CON VIOLENCIA            326\n",
       "ROBO DE OBJETOS DEL INTERIOR DE UN VEHICULO               291\n",
       "Name: 0, dtype: int64"
      ]
     },
     "execution_count": 61,
     "metadata": {},
     "output_type": "execute_result"
    }
   ],
   "source": [
    "magdalenadf[0].value_counts().head(10)"
   ]
  },
  {
   "cell_type": "code",
   "execution_count": 411,
   "metadata": {},
   "outputs": [
    {
     "data": {
      "text/html": [
       "<div>\n",
       "<style scoped>\n",
       "    .dataframe tbody tr th:only-of-type {\n",
       "        vertical-align: middle;\n",
       "    }\n",
       "\n",
       "    .dataframe tbody tr th {\n",
       "        vertical-align: top;\n",
       "    }\n",
       "\n",
       "    .dataframe thead th {\n",
       "        text-align: right;\n",
       "    }\n",
       "</style>\n",
       "<table border=\"1\" class=\"dataframe\">\n",
       "  <thead>\n",
       "    <tr style=\"text-align: right;\">\n",
       "      <th></th>\n",
       "      <th>CRIME</th>\n",
       "      <th>YEAR</th>\n",
       "    </tr>\n",
       "  </thead>\n",
       "  <tbody>\n",
       "    <tr>\n",
       "      <td>0</td>\n",
       "      <td>VIOLENCIA FAMILIAR</td>\n",
       "      <td>2669</td>\n",
       "    </tr>\n",
       "    <tr>\n",
       "      <td>1</td>\n",
       "      <td>AMENAZAS</td>\n",
       "      <td>918</td>\n",
       "    </tr>\n",
       "    <tr>\n",
       "      <td>2</td>\n",
       "      <td>ROBO A CASA HABITACION SIN VIOLENCIA</td>\n",
       "      <td>649</td>\n",
       "    </tr>\n",
       "    <tr>\n",
       "      <td>3</td>\n",
       "      <td>ROBO DE OBJETOS</td>\n",
       "      <td>577</td>\n",
       "    </tr>\n",
       "    <tr>\n",
       "      <td>4</td>\n",
       "      <td>DENUNCIA DE HECHOS</td>\n",
       "      <td>505</td>\n",
       "    </tr>\n",
       "    <tr>\n",
       "      <td>5</td>\n",
       "      <td>FRAUDE</td>\n",
       "      <td>449</td>\n",
       "    </tr>\n",
       "    <tr>\n",
       "      <td>6</td>\n",
       "      <td>ROBO A NEGOCIO SIN VIOLENCIA</td>\n",
       "      <td>365</td>\n",
       "    </tr>\n",
       "    <tr>\n",
       "      <td>7</td>\n",
       "      <td>ROBO DE VEHICULO DE SERVICIO PARTICULAR SIN VI...</td>\n",
       "      <td>351</td>\n",
       "    </tr>\n",
       "    <tr>\n",
       "      <td>8</td>\n",
       "      <td>ROBO A TRANSEUNTE EN VIA PUBLICA CON VIOLENCIA</td>\n",
       "      <td>326</td>\n",
       "    </tr>\n",
       "    <tr>\n",
       "      <td>9</td>\n",
       "      <td>ROBO DE OBJETOS DEL INTERIOR DE UN VEHICULO</td>\n",
       "      <td>291</td>\n",
       "    </tr>\n",
       "  </tbody>\n",
       "</table>\n",
       "</div>"
      ],
      "text/plain": [
       "                                               CRIME  YEAR\n",
       "0                                 VIOLENCIA FAMILIAR  2669\n",
       "1                                           AMENAZAS   918\n",
       "2               ROBO A CASA HABITACION SIN VIOLENCIA   649\n",
       "3                                    ROBO DE OBJETOS   577\n",
       "4                                 DENUNCIA DE HECHOS   505\n",
       "5                                             FRAUDE   449\n",
       "6                       ROBO A NEGOCIO SIN VIOLENCIA   365\n",
       "7  ROBO DE VEHICULO DE SERVICIO PARTICULAR SIN VI...   351\n",
       "8     ROBO A TRANSEUNTE EN VIA PUBLICA CON VIOLENCIA   326\n",
       "9        ROBO DE OBJETOS DEL INTERIOR DE UN VEHICULO   291"
      ]
     },
     "execution_count": 411,
     "metadata": {},
     "output_type": "execute_result"
    }
   ],
   "source": [
    "magdalenadf=magdalenadf.rename(columns={0:'CRIME', 1:\"YEAR\"})\n",
    "magdalenaplot=magdalenadf.groupby([\"CRIME\"]).count().sort_values(\"YEAR\", ascending=False).head(10).reset_index(inplace=False)\n",
    "magdalenaplot"
   ]
  },
  {
   "cell_type": "markdown",
   "metadata": {},
   "source": [
    "*MILPA ALTA"
   ]
  },
  {
   "cell_type": "code",
   "execution_count": 18,
   "metadata": {},
   "outputs": [],
   "source": [
    "from itertools import islice\n",
    "\n",
    "milpa=[]\n",
    "for i, row in df.iterrows(): #head(500)\n",
    "    \n",
    "    try:\n",
    "        \n",
    "        if df[\"fields\"][i][\"alcaldia_hechos\"]==\"MILPA ALTA\" and df[\"fields\"][i][\"ao_hechos\"] >= \"2016\":\n",
    "            milpa.append((df[\"fields\"][i][\"delito\"],df[\"fields\"][i][\"ao_hechos\"]))\n",
    "    except:\n",
    "        milpa.append(np.nan)"
   ]
  },
  {
   "cell_type": "code",
   "execution_count": 34,
   "metadata": {},
   "outputs": [],
   "source": [
    "milpadf=pd.DataFrame(milpa)"
   ]
  },
  {
   "cell_type": "code",
   "execution_count": 55,
   "metadata": {},
   "outputs": [
    {
     "data": {
      "text/plain": [
       "VIOLENCIA FAMILIAR                                       1118\n",
       "AMENAZAS                                                  356\n",
       "ROBO A CASA HABITACION SIN VIOLENCIA                      259\n",
       "ROBO DE OBJETOS                                           190\n",
       "LESIONES INTENCIONALES POR GOLPES                         176\n",
       "ROBO DE VEHICULO DE SERVICIO PARTICULAR SIN VIOLENCIA     169\n",
       "DAÑO EN PROPIEDAD AJENA INTENCIONAL                       152\n",
       "FRAUDE                                                    150\n",
       "DESPOJO                                                   145\n",
       "ROBO A TRANSEUNTE EN VIA PUBLICA CON VIOLENCIA            138\n",
       "Name: 0, dtype: int64"
      ]
     },
     "execution_count": 55,
     "metadata": {},
     "output_type": "execute_result"
    }
   ],
   "source": [
    "milpadf[0].value_counts().head(10)"
   ]
  },
  {
   "cell_type": "code",
   "execution_count": 412,
   "metadata": {},
   "outputs": [
    {
     "data": {
      "text/html": [
       "<div>\n",
       "<style scoped>\n",
       "    .dataframe tbody tr th:only-of-type {\n",
       "        vertical-align: middle;\n",
       "    }\n",
       "\n",
       "    .dataframe tbody tr th {\n",
       "        vertical-align: top;\n",
       "    }\n",
       "\n",
       "    .dataframe thead th {\n",
       "        text-align: right;\n",
       "    }\n",
       "</style>\n",
       "<table border=\"1\" class=\"dataframe\">\n",
       "  <thead>\n",
       "    <tr style=\"text-align: right;\">\n",
       "      <th></th>\n",
       "      <th>CRIME</th>\n",
       "      <th>YEAR</th>\n",
       "    </tr>\n",
       "  </thead>\n",
       "  <tbody>\n",
       "    <tr>\n",
       "      <td>0</td>\n",
       "      <td>VIOLENCIA FAMILIAR</td>\n",
       "      <td>1118</td>\n",
       "    </tr>\n",
       "    <tr>\n",
       "      <td>1</td>\n",
       "      <td>AMENAZAS</td>\n",
       "      <td>356</td>\n",
       "    </tr>\n",
       "    <tr>\n",
       "      <td>2</td>\n",
       "      <td>ROBO A CASA HABITACION SIN VIOLENCIA</td>\n",
       "      <td>259</td>\n",
       "    </tr>\n",
       "    <tr>\n",
       "      <td>3</td>\n",
       "      <td>ROBO DE OBJETOS</td>\n",
       "      <td>190</td>\n",
       "    </tr>\n",
       "    <tr>\n",
       "      <td>4</td>\n",
       "      <td>LESIONES INTENCIONALES POR GOLPES</td>\n",
       "      <td>176</td>\n",
       "    </tr>\n",
       "    <tr>\n",
       "      <td>5</td>\n",
       "      <td>ROBO DE VEHICULO DE SERVICIO PARTICULAR SIN VI...</td>\n",
       "      <td>169</td>\n",
       "    </tr>\n",
       "    <tr>\n",
       "      <td>6</td>\n",
       "      <td>DAÑO EN PROPIEDAD AJENA INTENCIONAL</td>\n",
       "      <td>152</td>\n",
       "    </tr>\n",
       "    <tr>\n",
       "      <td>7</td>\n",
       "      <td>FRAUDE</td>\n",
       "      <td>150</td>\n",
       "    </tr>\n",
       "    <tr>\n",
       "      <td>8</td>\n",
       "      <td>DESPOJO</td>\n",
       "      <td>145</td>\n",
       "    </tr>\n",
       "    <tr>\n",
       "      <td>9</td>\n",
       "      <td>ROBO A TRANSEUNTE EN VIA PUBLICA CON VIOLENCIA</td>\n",
       "      <td>138</td>\n",
       "    </tr>\n",
       "  </tbody>\n",
       "</table>\n",
       "</div>"
      ],
      "text/plain": [
       "                                               CRIME  YEAR\n",
       "0                                 VIOLENCIA FAMILIAR  1118\n",
       "1                                           AMENAZAS   356\n",
       "2               ROBO A CASA HABITACION SIN VIOLENCIA   259\n",
       "3                                    ROBO DE OBJETOS   190\n",
       "4                  LESIONES INTENCIONALES POR GOLPES   176\n",
       "5  ROBO DE VEHICULO DE SERVICIO PARTICULAR SIN VI...   169\n",
       "6                DAÑO EN PROPIEDAD AJENA INTENCIONAL   152\n",
       "7                                             FRAUDE   150\n",
       "8                                            DESPOJO   145\n",
       "9     ROBO A TRANSEUNTE EN VIA PUBLICA CON VIOLENCIA   138"
      ]
     },
     "execution_count": 412,
     "metadata": {},
     "output_type": "execute_result"
    }
   ],
   "source": [
    "milpadf=milpadf.rename(columns={0:'CRIME', 1:\"YEAR\"})\n",
    "milpaplot=milpadf.groupby([\"CRIME\"]).count().sort_values(\"YEAR\", ascending=False).head(10).reset_index(inplace=False)\n",
    "milpaplot"
   ]
  },
  {
   "cell_type": "markdown",
   "metadata": {},
   "source": [
    "*IZTACALCO"
   ]
  },
  {
   "cell_type": "code",
   "execution_count": 19,
   "metadata": {},
   "outputs": [],
   "source": [
    "from itertools import islice\n",
    "\n",
    "iztacalco=[]\n",
    "for i, row in df.iterrows(): #head(500)\n",
    "    \n",
    "    try:\n",
    "        \n",
    "        if df[\"fields\"][i][\"alcaldia_hechos\"]==\"IZTACALCO\" and df[\"fields\"][i][\"ao_hechos\"] >= \"2016\":\n",
    "            iztacalco.append((df[\"fields\"][i][\"delito\"],df[\"fields\"][i][\"ao_hechos\"]))\n",
    "    except:\n",
    "        iztacalco.append(np.nan)"
   ]
  },
  {
   "cell_type": "code",
   "execution_count": 56,
   "metadata": {},
   "outputs": [],
   "source": [
    "iztacalcodf=pd.DataFrame(iztacalco)"
   ]
  },
  {
   "cell_type": "code",
   "execution_count": 57,
   "metadata": {},
   "outputs": [
    {
     "data": {
      "text/plain": [
       "VIOLENCIA FAMILIAR                                       4557\n",
       "ROBO A TRANSEUNTE EN VIA PUBLICA CON VIOLENCIA           2452\n",
       "ROBO DE OBJETOS                                          1903\n",
       "DENUNCIA DE HECHOS                                       1739\n",
       "AMENAZAS                                                 1701\n",
       "FRAUDE                                                   1267\n",
       "ROBO A NEGOCIO SIN VIOLENCIA                             1139\n",
       "ROBO DE OBJETOS DEL INTERIOR DE UN VEHICULO              1134\n",
       "ROBO DE ACCESORIOS DE AUTO                               1092\n",
       "ROBO DE VEHICULO DE SERVICIO PARTICULAR SIN VIOLENCIA    1048\n",
       "Name: 0, dtype: int64"
      ]
     },
     "execution_count": 57,
     "metadata": {},
     "output_type": "execute_result"
    }
   ],
   "source": [
    "iztacalcodf[0].value_counts().head(10)"
   ]
  },
  {
   "cell_type": "code",
   "execution_count": 413,
   "metadata": {},
   "outputs": [
    {
     "data": {
      "text/html": [
       "<div>\n",
       "<style scoped>\n",
       "    .dataframe tbody tr th:only-of-type {\n",
       "        vertical-align: middle;\n",
       "    }\n",
       "\n",
       "    .dataframe tbody tr th {\n",
       "        vertical-align: top;\n",
       "    }\n",
       "\n",
       "    .dataframe thead th {\n",
       "        text-align: right;\n",
       "    }\n",
       "</style>\n",
       "<table border=\"1\" class=\"dataframe\">\n",
       "  <thead>\n",
       "    <tr style=\"text-align: right;\">\n",
       "      <th></th>\n",
       "      <th>CRIME</th>\n",
       "      <th>YEAR</th>\n",
       "    </tr>\n",
       "  </thead>\n",
       "  <tbody>\n",
       "    <tr>\n",
       "      <td>0</td>\n",
       "      <td>VIOLENCIA FAMILIAR</td>\n",
       "      <td>4557</td>\n",
       "    </tr>\n",
       "    <tr>\n",
       "      <td>1</td>\n",
       "      <td>ROBO A TRANSEUNTE EN VIA PUBLICA CON VIOLENCIA</td>\n",
       "      <td>2452</td>\n",
       "    </tr>\n",
       "    <tr>\n",
       "      <td>2</td>\n",
       "      <td>ROBO DE OBJETOS</td>\n",
       "      <td>1903</td>\n",
       "    </tr>\n",
       "    <tr>\n",
       "      <td>3</td>\n",
       "      <td>DENUNCIA DE HECHOS</td>\n",
       "      <td>1739</td>\n",
       "    </tr>\n",
       "    <tr>\n",
       "      <td>4</td>\n",
       "      <td>AMENAZAS</td>\n",
       "      <td>1701</td>\n",
       "    </tr>\n",
       "    <tr>\n",
       "      <td>5</td>\n",
       "      <td>FRAUDE</td>\n",
       "      <td>1267</td>\n",
       "    </tr>\n",
       "    <tr>\n",
       "      <td>6</td>\n",
       "      <td>ROBO A NEGOCIO SIN VIOLENCIA</td>\n",
       "      <td>1139</td>\n",
       "    </tr>\n",
       "    <tr>\n",
       "      <td>7</td>\n",
       "      <td>ROBO DE OBJETOS DEL INTERIOR DE UN VEHICULO</td>\n",
       "      <td>1134</td>\n",
       "    </tr>\n",
       "    <tr>\n",
       "      <td>8</td>\n",
       "      <td>ROBO DE ACCESORIOS DE AUTO</td>\n",
       "      <td>1092</td>\n",
       "    </tr>\n",
       "    <tr>\n",
       "      <td>9</td>\n",
       "      <td>ROBO DE VEHICULO DE SERVICIO PARTICULAR SIN VI...</td>\n",
       "      <td>1048</td>\n",
       "    </tr>\n",
       "  </tbody>\n",
       "</table>\n",
       "</div>"
      ],
      "text/plain": [
       "                                               CRIME  YEAR\n",
       "0                                 VIOLENCIA FAMILIAR  4557\n",
       "1     ROBO A TRANSEUNTE EN VIA PUBLICA CON VIOLENCIA  2452\n",
       "2                                    ROBO DE OBJETOS  1903\n",
       "3                                 DENUNCIA DE HECHOS  1739\n",
       "4                                           AMENAZAS  1701\n",
       "5                                             FRAUDE  1267\n",
       "6                       ROBO A NEGOCIO SIN VIOLENCIA  1139\n",
       "7        ROBO DE OBJETOS DEL INTERIOR DE UN VEHICULO  1134\n",
       "8                         ROBO DE ACCESORIOS DE AUTO  1092\n",
       "9  ROBO DE VEHICULO DE SERVICIO PARTICULAR SIN VI...  1048"
      ]
     },
     "execution_count": 413,
     "metadata": {},
     "output_type": "execute_result"
    }
   ],
   "source": [
    "iztacalcodf=iztacalcodf.rename(columns={0:'CRIME', 1:\"YEAR\"})\n",
    "iztacalcoplot=iztacalcodf.groupby([\"CRIME\"]).count().sort_values(\"YEAR\", ascending=False).head(10).reset_index(inplace=False)\n",
    "iztacalcoplot"
   ]
  },
  {
   "cell_type": "code",
   "execution_count": null,
   "metadata": {},
   "outputs": [],
   "source": []
  },
  {
   "cell_type": "code",
   "execution_count": null,
   "metadata": {},
   "outputs": [],
   "source": []
  }
 ],
 "metadata": {
  "kernelspec": {
   "display_name": "Python 3",
   "language": "python",
   "name": "python3"
  },
  "language_info": {
   "codemirror_mode": {
    "name": "ipython",
    "version": 3
   },
   "file_extension": ".py",
   "mimetype": "text/x-python",
   "name": "python",
   "nbconvert_exporter": "python",
   "pygments_lexer": "ipython3",
   "version": "3.7.3"
  }
 },
 "nbformat": 4,
 "nbformat_minor": 2
}
